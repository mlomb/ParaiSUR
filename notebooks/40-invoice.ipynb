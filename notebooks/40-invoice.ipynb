{
 "cells": [
  {
   "attachments": {},
   "cell_type": "markdown",
   "metadata": {},
   "source": [
    "# Invoice numbers\n",
    "\n",
    "Debugging para la extracción de números de factura."
   ]
  },
  {
   "cell_type": "code",
   "execution_count": null,
   "metadata": {},
   "outputs": [],
   "source": [
    "%load_ext autoreload\n",
    "%autoreload 2"
   ]
  },
  {
   "cell_type": "code",
   "execution_count": null,
   "metadata": {},
   "outputs": [],
   "source": [
    "import sys\n",
    "sys.path.append('..')"
   ]
  },
  {
   "cell_type": "code",
   "execution_count": null,
   "metadata": {},
   "outputs": [],
   "source": [
    "import random\n",
    "\n",
    "from tqdm import tqdm\n",
    "\n",
    "from lib.data import load_extracted_samples\n",
    "from lib.invoice import find_invoice, validate_invoice\n",
    "from lib.ocr import get_ocrs"
   ]
  },
  {
   "cell_type": "code",
   "execution_count": null,
   "metadata": {},
   "outputs": [],
   "source": [
    "samples = load_extracted_samples()"
   ]
  },
  {
   "cell_type": "code",
   "execution_count": null,
   "metadata": {},
   "outputs": [],
   "source": [
    "num_found = 0\n",
    "invoices_found = {}\n",
    "samples_with_ocr_not_found = []\n",
    "samples_without_ocr_not_found = []\n",
    "\n",
    "for sample in tqdm(samples):\n",
    "    invoice = find_invoice(sample)\n",
    "    if invoice is not None:\n",
    "        num_found += 1\n",
    "        if invoice not in invoices_found:\n",
    "            invoices_found[invoice] = []\n",
    "        invoices_found[invoice].append(sample)\n",
    "    else:\n",
    "        if len(get_ocrs(sample)) > 0:\n",
    "            samples_with_ocr_not_found.append(sample)\n",
    "        else:\n",
    "            samples_without_ocr_not_found.append(sample)\n",
    "\n",
    "num_found, len(invoices_found), len(samples_with_ocr_not_found), len(samples_without_ocr_not_found)"
   ]
  },
  {
   "cell_type": "code",
   "execution_count": null,
   "metadata": {},
   "outputs": [],
   "source": [
    "samples_with_ocr_not_found"
   ]
  },
  {
   "cell_type": "code",
   "execution_count": null,
   "metadata": {},
   "outputs": [],
   "source": [
    "# find two invoice numbers that have more than one sample\n",
    "for invoice, found in invoices_found.items():\n",
    "    if len(found) > 1:\n",
    "        print(invoice, len(found), [s[\"filename\"] for s in found])"
   ]
  },
  {
   "cell_type": "code",
   "execution_count": null,
   "metadata": {},
   "outputs": [],
   "source": [
    "invoices_found[\"L94171162\"][1]"
   ]
  },
  {
   "cell_type": "code",
   "execution_count": null,
   "metadata": {},
   "outputs": [],
   "source": [
    "find_invoice(invoices_found[\"P21507748\"][0])"
   ]
  },
  {
   "cell_type": "code",
   "execution_count": null,
   "metadata": {},
   "outputs": [],
   "source": [
    "#filename = \"2023-05-10_4812.pdf\"\n",
    "#sample = [s for s in samples if s[\"filename\"] == filename][0]\n",
    "#find_invoice(sample)"
   ]
  }
 ],
 "metadata": {
  "kernelspec": {
   "display_name": "ParaiSUR-FY4onnAP",
   "language": "python",
   "name": "python3"
  },
  "language_info": {
   "codemirror_mode": {
    "name": "ipython",
    "version": 3
   },
   "file_extension": ".py",
   "mimetype": "text/x-python",
   "name": "python",
   "nbconvert_exporter": "python",
   "pygments_lexer": "ipython3",
   "version": "3.10.6"
  },
  "orig_nbformat": 4
 },
 "nbformat": 4,
 "nbformat_minor": 2
}
