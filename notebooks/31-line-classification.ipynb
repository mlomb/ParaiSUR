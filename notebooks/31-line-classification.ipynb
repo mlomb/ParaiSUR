{
 "cells": [
  {
   "cell_type": "code",
   "execution_count": null,
   "metadata": {},
   "outputs": [],
   "source": [
    "%load_ext autoreload\n",
    "%autoreload 2"
   ]
  },
  {
   "cell_type": "code",
   "execution_count": null,
   "metadata": {},
   "outputs": [],
   "source": [
    "import sys\n",
    "sys.path.append('..')"
   ]
  },
  {
   "cell_type": "code",
   "execution_count": null,
   "metadata": {},
   "outputs": [],
   "source": [
    "from tqdm import tqdm\n",
    "\n",
    "from lib.data import load_extracted_samples\n",
    "from lib.details import find_detail_lines\n",
    "from lib.line_classification import is_professional"
   ]
  },
  {
   "cell_type": "code",
   "execution_count": null,
   "metadata": {},
   "outputs": [],
   "source": [
    "samples = load_extracted_samples()\n",
    "len(samples)"
   ]
  },
  {
   "cell_type": "code",
   "execution_count": null,
   "metadata": {},
   "outputs": [],
   "source": [
    "professional_lines = set()\n",
    "not_professional_lines = set()\n",
    "\n",
    "for sample in tqdm(samples[:100]):\n",
    "    lines = find_detail_lines(sample)\n",
    "\n",
    "    for line in lines:\n",
    "        if line is None:\n",
    "            continue\n",
    "        \n",
    "        if is_professional(line[\"desc\"]):\n",
    "            professional_lines.add(line[\"desc\"])\n",
    "        else:\n",
    "            not_professional_lines.add(line[\"desc\"])\n",
    "\n",
    "professional_lines = sorted(professional_lines)\n",
    "not_professional_lines = sorted(not_professional_lines)\n",
    "\n",
    "len(professional_lines), len(not_professional_lines)"
   ]
  },
  {
   "cell_type": "code",
   "execution_count": null,
   "metadata": {},
   "outputs": [],
   "source": [
    "# save list to files\n",
    "with open(\"professional_lines.txt\", \"w\") as f:\n",
    "    for line in professional_lines:\n",
    "        f.write(line + \"\\n\")\n",
    "\n",
    "with open(\"not_professional_lines.txt\", \"w\") as f:\n",
    "    for line in not_professional_lines:\n",
    "        f.write(line + \"\\n\")"
   ]
  },
  {
   "cell_type": "code",
   "execution_count": null,
   "metadata": {},
   "outputs": [],
   "source": [
    "is_professional(\"Timothy West - Engineer Design II (Engineer)\")"
   ]
  },
  {
   "cell_type": "code",
   "execution_count": null,
   "metadata": {},
   "outputs": [],
   "source": []
  }
 ],
 "metadata": {
  "kernelspec": {
   "display_name": "ParaiSUR-FY4onnAP",
   "language": "python",
   "name": "python3"
  },
  "language_info": {
   "codemirror_mode": {
    "name": "ipython",
    "version": 3
   },
   "file_extension": ".py",
   "mimetype": "text/x-python",
   "name": "python",
   "nbconvert_exporter": "python",
   "pygments_lexer": "ipython3",
   "version": "3.10.6"
  },
  "orig_nbformat": 4
 },
 "nbformat": 4,
 "nbformat_minor": 2
}
