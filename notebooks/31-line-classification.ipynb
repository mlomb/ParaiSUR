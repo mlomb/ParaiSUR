{
 "cells": [
  {
   "cell_type": "code",
   "execution_count": 8,
   "metadata": {},
   "outputs": [
    {
     "name": "stdout",
     "output_type": "stream",
     "text": [
      "The autoreload extension is already loaded. To reload it, use:\n",
      "  %reload_ext autoreload\n"
     ]
    }
   ],
   "source": [
    "%load_ext autoreload\n",
    "%autoreload 2"
   ]
  },
  {
   "cell_type": "code",
   "execution_count": 9,
   "metadata": {},
   "outputs": [],
   "source": [
    "import sys\n",
    "sys.path.append('..')"
   ]
  },
  {
   "cell_type": "code",
   "execution_count": 10,
   "metadata": {},
   "outputs": [],
   "source": [
    "from tqdm import tqdm\n",
    "\n",
    "from lib.data import load_extracted_samples\n",
    "from lib.details import find_detail_lines\n",
    "from lib.line_classification import is_professional"
   ]
  },
  {
   "cell_type": "code",
   "execution_count": 11,
   "metadata": {},
   "outputs": [
    {
     "data": {
      "text/plain": [
       "6294"
      ]
     },
     "execution_count": 11,
     "metadata": {},
     "output_type": "execute_result"
    }
   ],
   "source": [
    "samples = load_extracted_samples(\"only_ocr\")\n",
    "len(samples)"
   ]
  },
  {
   "cell_type": "code",
   "execution_count": 12,
   "metadata": {},
   "outputs": [
    {
     "name": "stderr",
     "output_type": "stream",
     "text": [
      "  2%|▏         | 2/100 [00:47<39:03, 23.91s/it]\n"
     ]
    },
    {
     "ename": "KeyboardInterrupt",
     "evalue": "",
     "output_type": "error",
     "traceback": [
      "\u001b[0;31m---------------------------------------------------------------------------\u001b[0m",
      "\u001b[0;31mAttributeError\u001b[0m                            Traceback (most recent call last)",
      "File \u001b[0;32m~/.local/share/virtualenvs/ParaiSUR-FY4onnAP/lib/python3.10/site-packages/thefuzz/process.py:108\u001b[0m, in \u001b[0;36mextractWithoutOrder\u001b[0;34m(query, choices, processor, scorer, score_cutoff)\u001b[0m\n\u001b[1;32m    106\u001b[0m \u001b[39mtry\u001b[39;00m:\n\u001b[1;32m    107\u001b[0m     \u001b[39m# See if choices is a dictionary-like object.\u001b[39;00m\n\u001b[0;32m--> 108\u001b[0m     \u001b[39mfor\u001b[39;00m key, choice \u001b[39min\u001b[39;00m choices\u001b[39m.\u001b[39;49mitems():\n\u001b[1;32m    109\u001b[0m         processed \u001b[39m=\u001b[39m pre_processor(processor(choice))\n",
      "\u001b[0;31mAttributeError\u001b[0m: 'list' object has no attribute 'items'",
      "\nDuring handling of the above exception, another exception occurred:\n",
      "\u001b[0;31mKeyboardInterrupt\u001b[0m                         Traceback (most recent call last)",
      "Cell \u001b[0;32mIn[12], line 11\u001b[0m\n\u001b[1;32m      8\u001b[0m \u001b[39mif\u001b[39;00m line \u001b[39mis\u001b[39;00m \u001b[39mNone\u001b[39;00m:\n\u001b[1;32m      9\u001b[0m     \u001b[39mcontinue\u001b[39;00m\n\u001b[0;32m---> 11\u001b[0m \u001b[39mif\u001b[39;00m is_professional(line[\u001b[39m\"\u001b[39;49m\u001b[39mdesc\u001b[39;49m\u001b[39m\"\u001b[39;49m]):\n\u001b[1;32m     12\u001b[0m     professional_lines\u001b[39m.\u001b[39madd(line[\u001b[39m\"\u001b[39m\u001b[39mdesc\u001b[39m\u001b[39m\"\u001b[39m])\n\u001b[1;32m     13\u001b[0m \u001b[39melse\u001b[39;00m:\n",
      "File \u001b[0;32m/mnt/c/Users/mlomb/Desktop/ParaiSUR/notebooks/../lib/line_classification.py:29\u001b[0m, in \u001b[0;36mis_professional\u001b[0;34m(desc)\u001b[0m\n\u001b[1;32m     19\u001b[0m last_names \u001b[39m=\u001b[39m load_last_names()\n\u001b[1;32m     20\u001b[0m \u001b[39mfor\u001b[39;00m i \u001b[39min\u001b[39;00m \u001b[39mrange\u001b[39m(\u001b[39mlen\u001b[39m(words) \u001b[39m-\u001b[39m \u001b[39m1\u001b[39m):\n\u001b[1;32m     21\u001b[0m     \u001b[39m# if words[i] in first_names and words[i + 1] in last_names:\u001b[39;00m\n\u001b[1;32m     22\u001b[0m     \u001b[39m#    professional = True\u001b[39;00m\n\u001b[1;32m     24\u001b[0m     \u001b[39mif\u001b[39;00m process\u001b[39m.\u001b[39mextractOne(\n\u001b[1;32m     25\u001b[0m         words[i],\n\u001b[1;32m     26\u001b[0m         first_names,\n\u001b[1;32m     27\u001b[0m         scorer\u001b[39m=\u001b[39mfuzz\u001b[39m.\u001b[39mratio,\n\u001b[1;32m     28\u001b[0m         score_cutoff\u001b[39m=\u001b[39m\u001b[39m65\u001b[39m,\n\u001b[0;32m---> 29\u001b[0m     ) \u001b[39mand\u001b[39;00m process\u001b[39m.\u001b[39;49mextractOne(\n\u001b[1;32m     30\u001b[0m         words[i \u001b[39m+\u001b[39;49m \u001b[39m1\u001b[39;49m],\n\u001b[1;32m     31\u001b[0m         last_names,\n\u001b[1;32m     32\u001b[0m         scorer\u001b[39m=\u001b[39;49mfuzz\u001b[39m.\u001b[39;49mratio,\n\u001b[1;32m     33\u001b[0m         score_cutoff\u001b[39m=\u001b[39;49m\u001b[39m65\u001b[39;49m,\n\u001b[1;32m     34\u001b[0m     ):\n\u001b[1;32m     35\u001b[0m         professional \u001b[39m=\u001b[39m \u001b[39mTrue\u001b[39;00m\n\u001b[1;32m     37\u001b[0m PROFESSIONAL_KEYWORDS \u001b[39m=\u001b[39m [\n\u001b[1;32m     38\u001b[0m     \u001b[39m\"\u001b[39m\u001b[39madministrative\u001b[39m\u001b[39m\"\u001b[39m,\n\u001b[1;32m     39\u001b[0m     \u001b[39m\"\u001b[39m\u001b[39manalyst\u001b[39m\u001b[39m\"\u001b[39m,\n\u001b[0;32m   (...)\u001b[0m\n\u001b[1;32m     68\u001b[0m     \u001b[39m# scheduler?\u001b[39;00m\n\u001b[1;32m     69\u001b[0m ]\n",
      "File \u001b[0;32m~/.local/share/virtualenvs/ParaiSUR-FY4onnAP/lib/python3.10/site-packages/thefuzz/process.py:220\u001b[0m, in \u001b[0;36mextractOne\u001b[0;34m(query, choices, processor, scorer, score_cutoff)\u001b[0m\n\u001b[1;32m    218\u001b[0m best_list \u001b[39m=\u001b[39m extractWithoutOrder(query, choices, processor, scorer, score_cutoff)\n\u001b[1;32m    219\u001b[0m \u001b[39mtry\u001b[39;00m:\n\u001b[0;32m--> 220\u001b[0m     \u001b[39mreturn\u001b[39;00m \u001b[39mmax\u001b[39;49m(best_list, key\u001b[39m=\u001b[39;49m\u001b[39mlambda\u001b[39;49;00m i: i[\u001b[39m1\u001b[39;49m])\n\u001b[1;32m    221\u001b[0m \u001b[39mexcept\u001b[39;00m \u001b[39mValueError\u001b[39;00m:\n\u001b[1;32m    222\u001b[0m     \u001b[39mreturn\u001b[39;00m \u001b[39mNone\u001b[39;00m\n",
      "File \u001b[0;32m~/.local/share/virtualenvs/ParaiSUR-FY4onnAP/lib/python3.10/site-packages/thefuzz/process.py:117\u001b[0m, in \u001b[0;36mextractWithoutOrder\u001b[0;34m(query, choices, processor, scorer, score_cutoff)\u001b[0m\n\u001b[1;32m    115\u001b[0m \u001b[39mfor\u001b[39;00m choice \u001b[39min\u001b[39;00m choices:\n\u001b[1;32m    116\u001b[0m     processed \u001b[39m=\u001b[39m pre_processor(processor(choice))\n\u001b[0;32m--> 117\u001b[0m     score \u001b[39m=\u001b[39m scorer(processed_query, processed)\n\u001b[1;32m    118\u001b[0m     \u001b[39mif\u001b[39;00m score \u001b[39m>\u001b[39m\u001b[39m=\u001b[39m score_cutoff:\n\u001b[1;32m    119\u001b[0m         \u001b[39myield\u001b[39;00m (choice, score)\n",
      "File \u001b[0;32m~/.local/share/virtualenvs/ParaiSUR-FY4onnAP/lib/python3.10/site-packages/thefuzz/utils.py:38\u001b[0m, in \u001b[0;36mcheck_for_none.<locals>.decorator\u001b[0;34m(*args, **kwargs)\u001b[0m\n\u001b[1;32m     36\u001b[0m \u001b[39mif\u001b[39;00m args[\u001b[39m0\u001b[39m] \u001b[39mis\u001b[39;00m \u001b[39mNone\u001b[39;00m \u001b[39mor\u001b[39;00m args[\u001b[39m1\u001b[39m] \u001b[39mis\u001b[39;00m \u001b[39mNone\u001b[39;00m:\n\u001b[1;32m     37\u001b[0m     \u001b[39mreturn\u001b[39;00m \u001b[39m0\u001b[39m\n\u001b[0;32m---> 38\u001b[0m \u001b[39mreturn\u001b[39;00m func(\u001b[39m*\u001b[39;49margs, \u001b[39m*\u001b[39;49m\u001b[39m*\u001b[39;49mkwargs)\n",
      "File \u001b[0;32m~/.local/share/virtualenvs/ParaiSUR-FY4onnAP/lib/python3.10/site-packages/thefuzz/utils.py:25\u001b[0m, in \u001b[0;36mcheck_for_equivalence.<locals>.decorator\u001b[0;34m(*args, **kwargs)\u001b[0m\n\u001b[1;32m     24\u001b[0m \u001b[39mdef\u001b[39;00m \u001b[39mcheck_for_equivalence\u001b[39m(func):\n\u001b[0;32m---> 25\u001b[0m     \u001b[39m@functools\u001b[39m\u001b[39m.\u001b[39mwraps(func)\n\u001b[1;32m     26\u001b[0m     \u001b[39mdef\u001b[39;00m \u001b[39mdecorator\u001b[39m(\u001b[39m*\u001b[39margs, \u001b[39m*\u001b[39m\u001b[39m*\u001b[39mkwargs):\n\u001b[1;32m     27\u001b[0m         \u001b[39mif\u001b[39;00m args[\u001b[39m0\u001b[39m] \u001b[39m==\u001b[39m args[\u001b[39m1\u001b[39m]:\n\u001b[1;32m     28\u001b[0m             \u001b[39mreturn\u001b[39;00m \u001b[39m100\u001b[39m\n",
      "\u001b[0;31mKeyboardInterrupt\u001b[0m: "
     ]
    }
   ],
   "source": [
    "professional_lines = set()\n",
    "not_professional_lines = set()\n",
    "\n",
    "for sample in tqdm(samples[:100]):\n",
    "    lines = find_detail_lines(sample)\n",
    "\n",
    "    for line in lines:\n",
    "        if line is None:\n",
    "            continue\n",
    "        \n",
    "        if is_professional(line[\"desc\"]):\n",
    "            professional_lines.add(line[\"desc\"])\n",
    "        else:\n",
    "            not_professional_lines.add(line[\"desc\"])\n",
    "\n",
    "professional_lines = sorted(professional_lines)\n",
    "not_professional_lines = sorted(not_professional_lines)\n",
    "\n",
    "len(professional_lines), len(not_professional_lines)"
   ]
  },
  {
   "cell_type": "code",
   "execution_count": null,
   "metadata": {},
   "outputs": [],
   "source": [
    "# save list to files\n",
    "with open(\"professional_lines.txt\", \"w\") as f:\n",
    "    for line in professional_lines:\n",
    "        f.write(line + \"\\n\")\n",
    "\n",
    "with open(\"not_professional_lines.txt\", \"w\") as f:\n",
    "    for line in not_professional_lines:\n",
    "        f.write(line + \"\\n\")"
   ]
  },
  {
   "cell_type": "code",
   "execution_count": null,
   "metadata": {},
   "outputs": [],
   "source": [
    "is_professional(\"Timothy West - Engineer Design II (Engineer)\")"
   ]
  },
  {
   "cell_type": "code",
   "execution_count": null,
   "metadata": {},
   "outputs": [],
   "source": []
  }
 ],
 "metadata": {
  "kernelspec": {
   "display_name": "ParaiSUR-FY4onnAP",
   "language": "python",
   "name": "python3"
  },
  "language_info": {
   "codemirror_mode": {
    "name": "ipython",
    "version": 3
   },
   "file_extension": ".py",
   "mimetype": "text/x-python",
   "name": "python",
   "nbconvert_exporter": "python",
   "pygments_lexer": "ipython3",
   "version": "3.10.6"
  },
  "orig_nbformat": 4
 },
 "nbformat": 4,
 "nbformat_minor": 2
}
