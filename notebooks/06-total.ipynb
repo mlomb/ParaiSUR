{
 "cells": [
  {
   "cell_type": "code",
   "execution_count": 1,
   "metadata": {},
   "outputs": [],
   "source": [
    "import sys\n",
    "sys.path.append('..')"
   ]
  },
  {
   "cell_type": "code",
   "execution_count": 2,
   "metadata": {},
   "outputs": [],
   "source": [
    "import pandas as pd\n",
    "from PIL import Image\n",
    "from tqdm import tqdm\n",
    "\n",
    "from lib.data import load_extracted_samples\n",
    "from lib.ocr import OCRParams, ocr_sample\n",
    "from lib.text import extract_total"
   ]
  },
  {
   "cell_type": "code",
   "execution_count": 3,
   "metadata": {},
   "outputs": [],
   "source": [
    "samples = load_extracted_samples()\n",
    "samples = [s for s in samples if len(s[\"text\"]) == 0]"
   ]
  },
  {
   "cell_type": "code",
   "execution_count": 10,
   "metadata": {},
   "outputs": [
    {
     "name": "stderr",
     "output_type": "stream",
     "text": [
      "100%|██████████| 6294/6294 [02:13<00:00, 47.19it/s]\n"
     ]
    }
   ],
   "source": [
    "params = OCRParams(\"easyocr\", grayscale=False, threshold=None)\n",
    "\n",
    "k = 0\n",
    "\n",
    "for sample in tqdm(samples):\n",
    "    text = ocr_sample(sample, params, only_cache=True)\n",
    "    total = extract_total(text)\n",
    "\n",
    "    text1 = ocr_sample(sample, OCRParams(\"easyocr\", grayscale=False, threshold=None), only_cache=True)\n",
    "    text2 = ocr_sample(sample, OCRParams(\"tesseract\", grayscale=False, threshold=None), only_cache=True)\n",
    "\n",
    "    total1 = extract_total(text1)\n",
    "    total2 = extract_total(text2)\n",
    "\n",
    "    if total1 is not None or total2 is not None:\n",
    "        k += 1\n",
    "        \n",
    "    sample.update({\"text\": text, \"total\": total})"
   ]
  },
  {
   "cell_type": "code",
   "execution_count": 14,
   "metadata": {},
   "outputs": [
    {
     "data": {
      "text/plain": [
       "0.8182395932634254"
      ]
     },
     "execution_count": 14,
     "metadata": {},
     "output_type": "execute_result"
    }
   ],
   "source": [
    "k / len(samples)"
   ]
  },
  {
   "cell_type": "code",
   "execution_count": 15,
   "metadata": {},
   "outputs": [
    {
     "data": {
      "text/html": [
       "<div>\n",
       "<style scoped>\n",
       "    .dataframe tbody tr th:only-of-type {\n",
       "        vertical-align: middle;\n",
       "    }\n",
       "\n",
       "    .dataframe tbody tr th {\n",
       "        vertical-align: top;\n",
       "    }\n",
       "\n",
       "    .dataframe thead th {\n",
       "        text-align: right;\n",
       "    }\n",
       "</style>\n",
       "<table border=\"1\" class=\"dataframe\">\n",
       "  <thead>\n",
       "    <tr style=\"text-align: right;\">\n",
       "      <th></th>\n",
       "      <th>filename</th>\n",
       "      <th>size</th>\n",
       "      <th>pages</th>\n",
       "      <th>text</th>\n",
       "      <th>images</th>\n",
       "      <th>total</th>\n",
       "      <th>total_abs</th>\n",
       "    </tr>\n",
       "  </thead>\n",
       "  <tbody>\n",
       "    <tr>\n",
       "      <th>3057</th>\n",
       "      <td>G94880599.pdf</td>\n",
       "      <td>1051202</td>\n",
       "      <td>2</td>\n",
       "      <td>nvoice Date: Jan 19, 2023\\nLocator #: G9488059...</td>\n",
       "      <td>[/mnt/c/Users/mlomb/Desktop/ParaiSUR/data-extr...</td>\n",
       "      <td>108.51</td>\n",
       "      <td>108.51</td>\n",
       "    </tr>\n",
       "    <tr>\n",
       "      <th>2385</th>\n",
       "      <td>Email_Attachment_2022-01-29_5833.pdf</td>\n",
       "      <td>1084415</td>\n",
       "      <td>2</td>\n",
       "      <td>Invoice #: 744125397\\nParaSlR\\nDue on: Jan 29,...</td>\n",
       "      <td>[/mnt/c/Users/mlomb/Desktop/ParaiSUR/data-extr...</td>\n",
       "      <td>130.85</td>\n",
       "      <td>130.85</td>\n",
       "    </tr>\n",
       "    <tr>\n",
       "      <th>6262</th>\n",
       "      <td>Y36106652.pdf</td>\n",
       "      <td>962817</td>\n",
       "      <td>2</td>\n",
       "      <td>Sep\\nInvoice\\nDate:\\n18 ,\\n2022\\nParaisu?\\nY36...</td>\n",
       "      <td>[/mnt/c/Users/mlomb/Desktop/ParaiSUR/data-extr...</td>\n",
       "      <td>-142.79</td>\n",
       "      <td>142.79</td>\n",
       "    </tr>\n",
       "    <tr>\n",
       "      <th>739</th>\n",
       "      <td>2022-08-02_5021.pdf</td>\n",
       "      <td>1361756</td>\n",
       "      <td>2</td>\n",
       "      <td>Invoice: 670530008\\nTaylor; Shelton and Hickma...</td>\n",
       "      <td>[/mnt/c/Users/mlomb/Desktop/ParaiSUR/data-extr...</td>\n",
       "      <td>-184.80</td>\n",
       "      <td>184.80</td>\n",
       "    </tr>\n",
       "    <tr>\n",
       "      <th>3657</th>\n",
       "      <td>Incoming_inv_ParaisurZ996560_4319.pdf</td>\n",
       "      <td>1042859</td>\n",
       "      <td>2</td>\n",
       "      <td>P64901557\\nLewis-Orozco\\nHaiti\\nIssuance date:...</td>\n",
       "      <td>[/mnt/c/Users/mlomb/Desktop/ParaiSUR/data-extr...</td>\n",
       "      <td>336.93</td>\n",
       "      <td>336.93</td>\n",
       "    </tr>\n",
       "    <tr>\n",
       "      <th>...</th>\n",
       "      <td>...</td>\n",
       "      <td>...</td>\n",
       "      <td>...</td>\n",
       "      <td>...</td>\n",
       "      <td>...</td>\n",
       "      <td>...</td>\n",
       "      <td>...</td>\n",
       "    </tr>\n",
       "    <tr>\n",
       "      <th>6280</th>\n",
       "      <td>Z29046653.pdf</td>\n",
       "      <td>664211</td>\n",
       "      <td>2</td>\n",
       "      <td>Invoice num:: Z29046653\\nParaiSUR\\nAv Belgrano...</td>\n",
       "      <td>[/mnt/c/Users/mlomb/Desktop/ParaiSUR/data-extr...</td>\n",
       "      <td>NaN</td>\n",
       "      <td>NaN</td>\n",
       "    </tr>\n",
       "    <tr>\n",
       "      <th>6284</th>\n",
       "      <td>Z37036921.pdf</td>\n",
       "      <td>1081119</td>\n",
       "      <td>2</td>\n",
       "      <td>237036921\\nSaint\\nPierre\\nand Miquelon\\nPotter...</td>\n",
       "      <td>[/mnt/c/Users/mlomb/Desktop/ParaiSUR/data-extr...</td>\n",
       "      <td>NaN</td>\n",
       "      <td>NaN</td>\n",
       "    </tr>\n",
       "    <tr>\n",
       "      <th>6286</th>\n",
       "      <td>Z47518912.pdf</td>\n",
       "      <td>2075725</td>\n",
       "      <td>2</td>\n",
       "      <td>Invoice num:: Z47518912\\nParaiSUR\\nAvBelgrano ...</td>\n",
       "      <td>[/mnt/c/Users/mlomb/Desktop/ParaiSUR/data-extr...</td>\n",
       "      <td>NaN</td>\n",
       "      <td>NaN</td>\n",
       "    </tr>\n",
       "    <tr>\n",
       "      <th>6291</th>\n",
       "      <td>Z86093956.pdf</td>\n",
       "      <td>1099676</td>\n",
       "      <td>2</td>\n",
       "      <td>Inv#\\n286093956\\nParaiSUR\\nIssuance\\nFeb 19 ,\\...</td>\n",
       "      <td>[/mnt/c/Users/mlomb/Desktop/ParaiSUR/data-extr...</td>\n",
       "      <td>NaN</td>\n",
       "      <td>NaN</td>\n",
       "    </tr>\n",
       "    <tr>\n",
       "      <th>6293</th>\n",
       "      <td>Z93108114.pdf</td>\n",
       "      <td>1858306</td>\n",
       "      <td>2</td>\n",
       "      <td>Invoice issued: Jan 17, 20\\nInvoice: Z93108114...</td>\n",
       "      <td>[/mnt/c/Users/mlomb/Desktop/ParaiSUR/data-extr...</td>\n",
       "      <td>NaN</td>\n",
       "      <td>NaN</td>\n",
       "    </tr>\n",
       "  </tbody>\n",
       "</table>\n",
       "<p>6294 rows × 7 columns</p>\n",
       "</div>"
      ],
      "text/plain": [
       "                                   filename     size  pages  \\\n",
       "3057                          G94880599.pdf  1051202      2   \n",
       "2385   Email_Attachment_2022-01-29_5833.pdf  1084415      2   \n",
       "6262                          Y36106652.pdf   962817      2   \n",
       "739                     2022-08-02_5021.pdf  1361756      2   \n",
       "3657  Incoming_inv_ParaisurZ996560_4319.pdf  1042859      2   \n",
       "...                                     ...      ...    ...   \n",
       "6280                          Z29046653.pdf   664211      2   \n",
       "6284                          Z37036921.pdf  1081119      2   \n",
       "6286                          Z47518912.pdf  2075725      2   \n",
       "6291                          Z86093956.pdf  1099676      2   \n",
       "6293                          Z93108114.pdf  1858306      2   \n",
       "\n",
       "                                                   text  \\\n",
       "3057  nvoice Date: Jan 19, 2023\\nLocator #: G9488059...   \n",
       "2385  Invoice #: 744125397\\nParaSlR\\nDue on: Jan 29,...   \n",
       "6262  Sep\\nInvoice\\nDate:\\n18 ,\\n2022\\nParaisu?\\nY36...   \n",
       "739   Invoice: 670530008\\nTaylor; Shelton and Hickma...   \n",
       "3657  P64901557\\nLewis-Orozco\\nHaiti\\nIssuance date:...   \n",
       "...                                                 ...   \n",
       "6280  Invoice num:: Z29046653\\nParaiSUR\\nAv Belgrano...   \n",
       "6284  237036921\\nSaint\\nPierre\\nand Miquelon\\nPotter...   \n",
       "6286  Invoice num:: Z47518912\\nParaiSUR\\nAvBelgrano ...   \n",
       "6291  Inv#\\n286093956\\nParaiSUR\\nIssuance\\nFeb 19 ,\\...   \n",
       "6293  Invoice issued: Jan 17, 20\\nInvoice: Z93108114...   \n",
       "\n",
       "                                                 images   total  total_abs  \n",
       "3057  [/mnt/c/Users/mlomb/Desktop/ParaiSUR/data-extr...  108.51     108.51  \n",
       "2385  [/mnt/c/Users/mlomb/Desktop/ParaiSUR/data-extr...  130.85     130.85  \n",
       "6262  [/mnt/c/Users/mlomb/Desktop/ParaiSUR/data-extr... -142.79     142.79  \n",
       "739   [/mnt/c/Users/mlomb/Desktop/ParaiSUR/data-extr... -184.80     184.80  \n",
       "3657  [/mnt/c/Users/mlomb/Desktop/ParaiSUR/data-extr...  336.93     336.93  \n",
       "...                                                 ...     ...        ...  \n",
       "6280  [/mnt/c/Users/mlomb/Desktop/ParaiSUR/data-extr...     NaN        NaN  \n",
       "6284  [/mnt/c/Users/mlomb/Desktop/ParaiSUR/data-extr...     NaN        NaN  \n",
       "6286  [/mnt/c/Users/mlomb/Desktop/ParaiSUR/data-extr...     NaN        NaN  \n",
       "6291  [/mnt/c/Users/mlomb/Desktop/ParaiSUR/data-extr...     NaN        NaN  \n",
       "6293  [/mnt/c/Users/mlomb/Desktop/ParaiSUR/data-extr...     NaN        NaN  \n",
       "\n",
       "[6294 rows x 7 columns]"
      ]
     },
     "execution_count": 15,
     "metadata": {},
     "output_type": "execute_result"
    }
   ],
   "source": [
    "df = pd.DataFrame(samples)\n",
    "df[\"total_abs\"] = df[\"total\"].abs()\n",
    "df.sort_values(by=['total_abs'], ascending=True, inplace=True)\n",
    "df"
   ]
  },
  {
   "cell_type": "code",
   "execution_count": null,
   "metadata": {},
   "outputs": [],
   "source": [
    "k = 14\n",
    "df.iloc[k][\"total\"], df.iloc[k][\"text\"]"
   ]
  },
  {
   "cell_type": "code",
   "execution_count": null,
   "metadata": {},
   "outputs": [],
   "source": [
    "Image.open(df.iloc[k][\"images\"][-1])"
   ]
  },
  {
   "cell_type": "code",
   "execution_count": null,
   "metadata": {},
   "outputs": [],
   "source": [
    "df[df[\"total_abs\"] < 100]"
   ]
  }
 ],
 "metadata": {
  "kernelspec": {
   "display_name": "Python 3 (ipykernel)",
   "language": "python",
   "name": "python3"
  },
  "language_info": {
   "codemirror_mode": {
    "name": "ipython",
    "version": 3
   },
   "file_extension": ".py",
   "mimetype": "text/x-python",
   "name": "python",
   "nbconvert_exporter": "python",
   "pygments_lexer": "ipython3",
   "version": "3.10.6"
  }
 },
 "nbformat": 4,
 "nbformat_minor": 2
}
