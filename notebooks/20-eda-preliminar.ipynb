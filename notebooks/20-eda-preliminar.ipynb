{
 "cells": [
  {
   "attachments": {},
   "cell_type": "markdown",
   "metadata": {},
   "source": [
    "# EDA\n",
    "\n",
    "Hago un EDA preliminar sobre los datos extraídos de los PDFs"
   ]
  },
  {
   "cell_type": "code",
   "execution_count": 1,
   "metadata": {},
   "outputs": [],
   "source": [
    "import sys\n",
    "sys.path.append('..')"
   ]
  },
  {
   "cell_type": "code",
   "execution_count": 2,
   "metadata": {},
   "outputs": [],
   "source": [
    "import matplotlib.pyplot as plt\n",
    "import seaborn as sns\n",
    "import pandas as pd\n",
    "\n",
    "from lib.data import load_extracted_samples"
   ]
  },
  {
   "cell_type": "code",
   "execution_count": 3,
   "metadata": {},
   "outputs": [
    {
     "data": {
      "text/html": [
       "<div>\n",
       "<style scoped>\n",
       "    .dataframe tbody tr th:only-of-type {\n",
       "        vertical-align: middle;\n",
       "    }\n",
       "\n",
       "    .dataframe tbody tr th {\n",
       "        vertical-align: top;\n",
       "    }\n",
       "\n",
       "    .dataframe thead th {\n",
       "        text-align: right;\n",
       "    }\n",
       "</style>\n",
       "<table border=\"1\" class=\"dataframe\">\n",
       "  <thead>\n",
       "    <tr style=\"text-align: right;\">\n",
       "      <th></th>\n",
       "      <th>filename</th>\n",
       "      <th>size</th>\n",
       "      <th>pages</th>\n",
       "      <th>text</th>\n",
       "      <th>images</th>\n",
       "      <th>has_text</th>\n",
       "    </tr>\n",
       "  </thead>\n",
       "  <tbody>\n",
       "    <tr>\n",
       "      <th>0</th>\n",
       "      <td>JohnsonThomas_2022-06-11.pdf</td>\n",
       "      <td>1048825</td>\n",
       "      <td>2</td>\n",
       "      <td></td>\n",
       "      <td>[/mnt/c/Users/mlomb/Desktop/ParaiSUR/data-extr...</td>\n",
       "      <td>False</td>\n",
       "    </tr>\n",
       "    <tr>\n",
       "      <th>1</th>\n",
       "      <td>2022-03-30_7901.pdf</td>\n",
       "      <td>1464373</td>\n",
       "      <td>2</td>\n",
       "      <td></td>\n",
       "      <td>[/mnt/c/Users/mlomb/Desktop/ParaiSUR/data-extr...</td>\n",
       "      <td>False</td>\n",
       "    </tr>\n",
       "    <tr>\n",
       "      <th>2</th>\n",
       "      <td>2023-04-15_6043.pdf</td>\n",
       "      <td>840231</td>\n",
       "      <td>2</td>\n",
       "      <td></td>\n",
       "      <td>[/mnt/c/Users/mlomb/Desktop/ParaiSUR/data-extr...</td>\n",
       "      <td>False</td>\n",
       "    </tr>\n",
       "    <tr>\n",
       "      <th>3</th>\n",
       "      <td>2022-10-11_7517.pdf</td>\n",
       "      <td>46472</td>\n",
       "      <td>2</td>\n",
       "      <td>Num: 752470592\\nDue on: Oct 11, 2022\\nHenry, A...</td>\n",
       "      <td>[]</td>\n",
       "      <td>True</td>\n",
       "    </tr>\n",
       "    <tr>\n",
       "      <th>4</th>\n",
       "      <td>Email_Attachment_2022-11-28_1679.pdf</td>\n",
       "      <td>46540</td>\n",
       "      <td>2</td>\n",
       "      <td>Inv#: Z38825880\\nIssuance date: Nov 28, 2022\\n...</td>\n",
       "      <td>[]</td>\n",
       "      <td>True</td>\n",
       "    </tr>\n",
       "    <tr>\n",
       "      <th>...</th>\n",
       "      <td>...</td>\n",
       "      <td>...</td>\n",
       "      <td>...</td>\n",
       "      <td>...</td>\n",
       "      <td>...</td>\n",
       "      <td>...</td>\n",
       "    </tr>\n",
       "    <tr>\n",
       "      <th>8406</th>\n",
       "      <td>Email_Attachment_2022-11-01_3690.pdf</td>\n",
       "      <td>1928447</td>\n",
       "      <td>2</td>\n",
       "      <td></td>\n",
       "      <td>[/mnt/c/Users/mlomb/Desktop/ParaiSUR/data-extr...</td>\n",
       "      <td>False</td>\n",
       "    </tr>\n",
       "    <tr>\n",
       "      <th>8407</th>\n",
       "      <td>F39879093.pdf</td>\n",
       "      <td>1904775</td>\n",
       "      <td>2</td>\n",
       "      <td></td>\n",
       "      <td>[/mnt/c/Users/mlomb/Desktop/ParaiSUR/data-extr...</td>\n",
       "      <td>False</td>\n",
       "    </tr>\n",
       "    <tr>\n",
       "      <th>8408</th>\n",
       "      <td>Incoming_inv_ParaisurZ996560_1893.pdf</td>\n",
       "      <td>47364</td>\n",
       "      <td>2</td>\n",
       "      <td>Locator #: W88751753\\nRecord date: May 14, 202...</td>\n",
       "      <td>[]</td>\n",
       "      <td>True</td>\n",
       "    </tr>\n",
       "    <tr>\n",
       "      <th>8409</th>\n",
       "      <td>2021-08-04_6897.pdf</td>\n",
       "      <td>2553896</td>\n",
       "      <td>2</td>\n",
       "      <td></td>\n",
       "      <td>[/mnt/c/Users/mlomb/Desktop/ParaiSUR/data-extr...</td>\n",
       "      <td>False</td>\n",
       "    </tr>\n",
       "    <tr>\n",
       "      <th>8410</th>\n",
       "      <td>650522022.pdf</td>\n",
       "      <td>1935230</td>\n",
       "      <td>2</td>\n",
       "      <td></td>\n",
       "      <td>[/mnt/c/Users/mlomb/Desktop/ParaiSUR/data-extr...</td>\n",
       "      <td>False</td>\n",
       "    </tr>\n",
       "  </tbody>\n",
       "</table>\n",
       "<p>8411 rows × 6 columns</p>\n",
       "</div>"
      ],
      "text/plain": [
       "                                   filename     size  pages  \\\n",
       "0              JohnsonThomas_2022-06-11.pdf  1048825      2   \n",
       "1                       2022-03-30_7901.pdf  1464373      2   \n",
       "2                       2023-04-15_6043.pdf   840231      2   \n",
       "3                       2022-10-11_7517.pdf    46472      2   \n",
       "4      Email_Attachment_2022-11-28_1679.pdf    46540      2   \n",
       "...                                     ...      ...    ...   \n",
       "8406   Email_Attachment_2022-11-01_3690.pdf  1928447      2   \n",
       "8407                          F39879093.pdf  1904775      2   \n",
       "8408  Incoming_inv_ParaisurZ996560_1893.pdf    47364      2   \n",
       "8409                    2021-08-04_6897.pdf  2553896      2   \n",
       "8410                          650522022.pdf  1935230      2   \n",
       "\n",
       "                                                   text  \\\n",
       "0                                                         \n",
       "1                                                         \n",
       "2                                                         \n",
       "3     Num: 752470592\\nDue on: Oct 11, 2022\\nHenry, A...   \n",
       "4     Inv#: Z38825880\\nIssuance date: Nov 28, 2022\\n...   \n",
       "...                                                 ...   \n",
       "8406                                                      \n",
       "8407                                                      \n",
       "8408  Locator #: W88751753\\nRecord date: May 14, 202...   \n",
       "8409                                                      \n",
       "8410                                                      \n",
       "\n",
       "                                                 images  has_text  \n",
       "0     [/mnt/c/Users/mlomb/Desktop/ParaiSUR/data-extr...     False  \n",
       "1     [/mnt/c/Users/mlomb/Desktop/ParaiSUR/data-extr...     False  \n",
       "2     [/mnt/c/Users/mlomb/Desktop/ParaiSUR/data-extr...     False  \n",
       "3                                                    []      True  \n",
       "4                                                    []      True  \n",
       "...                                                 ...       ...  \n",
       "8406  [/mnt/c/Users/mlomb/Desktop/ParaiSUR/data-extr...     False  \n",
       "8407  [/mnt/c/Users/mlomb/Desktop/ParaiSUR/data-extr...     False  \n",
       "8408                                                 []      True  \n",
       "8409  [/mnt/c/Users/mlomb/Desktop/ParaiSUR/data-extr...     False  \n",
       "8410  [/mnt/c/Users/mlomb/Desktop/ParaiSUR/data-extr...     False  \n",
       "\n",
       "[8411 rows x 6 columns]"
      ]
     },
     "execution_count": 3,
     "metadata": {},
     "output_type": "execute_result"
    }
   ],
   "source": [
    "df = pd.json_normalize(load_extracted_samples())\n",
    "df[\"has_text\"] = df[\"text\"].apply(lambda x: len(x) > 0)\n",
    "df"
   ]
  },
  {
   "cell_type": "code",
   "execution_count": 4,
   "metadata": {},
   "outputs": [
    {
     "data": {
      "text/plain": [
       "Text(0.5, 1.0, 'Tamaño del PDF')"
      ]
     },
     "execution_count": 4,
     "metadata": {},
     "output_type": "execute_result"
    },
    {
     "data": {
      "image/png": "[encoded data removed]",
      "text/plain": [
       "<Figure size 640x480 with 1 Axes>"
      ]
     },
     "metadata": {},
     "output_type": "display_data"
    }
   ],
   "source": [
    "sns.histplot(df, x=\"size\", hue=\"has_text\", multiple=\"stack\", bins=100).set_title(\"Tamaño del PDF\")"
   ]
  },
  {
   "attachments": {},
   "cell_type": "markdown",
   "metadata": {},
   "source": [
    "En el gráfico de arriba se puede ver como se agrupan documentos con diferentes tamaños. Esto quizás puede usarse para clasificar los proveedores."
   ]
  },
  {
   "cell_type": "code",
   "execution_count": 5,
   "metadata": {},
   "outputs": [
    {
     "data": {
      "text/plain": [
       "<Axes: >"
      ]
     },
     "execution_count": 5,
     "metadata": {},
     "output_type": "execute_result"
    },
    {
     "data": {
      "image/png": "[encoded data removed]",
      "text/plain": [
       "<Figure size 1000x500 with 2 Axes>"
      ]
     },
     "metadata": {},
     "output_type": "display_data"
    }
   ],
   "source": [
    "fig, ax = plt.subplots(1, 2, figsize=(10, 5))\n",
    "\n",
    "df.groupby(\"has_text\").size().plot.pie(ax=ax[0], autopct=\"%.2f\", labels=[\"Sin texto\", \"Con texto\"])\n",
    "df.groupby(\"pages\").size().plot.pie(ax=ax[1], autopct=\"%.2f\", labels=[\"1 hoja\", \"2 hojas\"])"
   ]
  },
  {
   "cell_type": "code",
   "execution_count": 6,
   "metadata": {},
   "outputs": [
    {
     "name": "stdout",
     "output_type": "stream",
     "text": [
      "filename                 Email_Attachment_2022-01-07_8411.pdf\n",
      "size                                                    86633\n",
      "pages                                                       1\n",
      "text                                                         \n",
      "images      [/mnt/c/Users/mlomb/Desktop/ParaiSUR/data-extr...\n",
      "has_text                                                False\n",
      "Name: 2950, dtype: object\n"
     ]
    }
   ],
   "source": [
    "# row of lowest size without text\n",
    "print(df[(df[\"has_text\"] == False) & (df[\"pages\"] == 1)].sort_values(by=\"size\").iloc[0])"
   ]
  }
 ],
 "metadata": {
  "kernelspec": {
   "display_name": "ParaiSUR-FY4onnAP",
   "language": "python",
   "name": "python3"
  },
  "language_info": {
   "codemirror_mode": {
    "name": "ipython",
    "version": 3
   },
   "file_extension": ".py",
   "mimetype": "text/x-python",
   "name": "python",
   "nbconvert_exporter": "python",
   "pygments_lexer": "ipython3",
   "version": "3.10.6"
  },
  "orig_nbformat": 4
 },
 "nbformat": 4,
 "nbformat_minor": 2
}
