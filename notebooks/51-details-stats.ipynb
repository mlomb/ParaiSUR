{
 "cells": [
  {
   "cell_type": "code",
   "execution_count": 1,
   "metadata": {},
   "outputs": [],
   "source": [
    "import sys\n",
    "sys.path.append('..')"
   ]
  },
  {
   "cell_type": "code",
   "execution_count": 2,
   "metadata": {},
   "outputs": [],
   "source": [
    "from tqdm import tqdm\n",
    "\n",
    "from lib.data import load_extracted_samples\n",
    "from lib.details import find_detail_lines\n",
    "from lib.line_classification import is_professional"
   ]
  },
  {
   "cell_type": "code",
   "execution_count": 3,
   "metadata": {},
   "outputs": [],
   "source": [
    "samples = load_extracted_samples()"
   ]
  },
  {
   "cell_type": "code",
   "execution_count": 4,
   "metadata": {},
   "outputs": [
    {
     "name": "stderr",
     "output_type": "stream",
     "text": [
      "100%|██████████| 8411/8411 [30:19<00:00,  4.62it/s]  "
     ]
    },
    {
     "name": "stdout",
     "output_type": "stream",
     "text": [
      "{'text': {'invoices': 2117, 'prof': 15426, 'not_prof': 40835, 'total': 56261}, 'ocr': {'invoices': 6294, 'prof': 43744, 'not_prof': 115483, 'total': 159227}}\n"
     ]
    },
    {
     "name": "stderr",
     "output_type": "stream",
     "text": [
      "\n"
     ]
    }
   ],
   "source": [
    "results = {\n",
    "    \"text\": {\n",
    "        \"invoices\": 0,\n",
    "        \"prof\": 0,\n",
    "        \"not_prof\": 0,\n",
    "        \"total\": 0\n",
    "    },\n",
    "    \"ocr\": {\n",
    "        \"invoices\": 0,\n",
    "        \"prof\": 0,\n",
    "        \"not_prof\": 0,\n",
    "        \"total\": 0\n",
    "    }\n",
    "}\n",
    "\n",
    "for sample in tqdm(samples):\n",
    "    key = \"text\" if len(sample[\"text\"]) > 0 else \"ocr\"\n",
    "\n",
    "    results[key][\"invoices\"] += 1\n",
    "\n",
    "    detail_lines = find_detail_lines(sample)\n",
    "    for line in detail_lines:\n",
    "        if line is not None:\n",
    "            results[key][\"total\"] += 1\n",
    "            if is_professional(line[\"desc\"]):\n",
    "                results[key][\"prof\"] += 1\n",
    "            else:\n",
    "                results[key][\"not_prof\"] += 1\n",
    "\n",
    "print(results)"
   ]
  }
 ],
 "metadata": {
  "kernelspec": {
   "display_name": "ParaiSUR-FY4onnAP",
   "language": "python",
   "name": "python3"
  },
  "language_info": {
   "codemirror_mode": {
    "name": "ipython",
    "version": 3
   },
   "file_extension": ".py",
   "mimetype": "text/x-python",
   "name": "python",
   "nbconvert_exporter": "python",
   "pygments_lexer": "ipython3",
   "version": "3.10.6"
  },
  "orig_nbformat": 4
 },
 "nbformat": 4,
 "nbformat_minor": 2
}
