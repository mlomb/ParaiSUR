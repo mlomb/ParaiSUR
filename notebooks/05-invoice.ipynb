{
 "cells": [
  {
   "cell_type": "code",
   "execution_count": 1,
   "metadata": {},
   "outputs": [],
   "source": [
    "import sys\n",
    "sys.path.append('..')"
   ]
  },
  {
   "cell_type": "code",
   "execution_count": 2,
   "metadata": {},
   "outputs": [],
   "source": [
    "import json\n",
    "import random\n",
    "\n",
    "from tqdm import tqdm\n",
    "\n",
    "from lib.data import load_all_invoices, load_extracted_samples\n",
    "from lib.invoice import (extract_invoice_candidates_from_text,\n",
    "                         find_invoice_cached, validate_invoice)\n",
    "from lib.ocr import get_ocrs"
   ]
  },
  {
   "cell_type": "code",
   "execution_count": 3,
   "metadata": {},
   "outputs": [],
   "source": [
    "samples = load_extracted_samples()\n",
    "samples = [s for s in samples if len(s[\"text\"]) == 0]\n",
    "random.Random(42).shuffle(samples)"
   ]
  },
  {
   "cell_type": "code",
   "execution_count": 4,
   "metadata": {},
   "outputs": [
    {
     "name": "stderr",
     "output_type": "stream",
     "text": [
      "100%|██████████| 6294/6294 [02:08<00:00, 49.02it/s]\n"
     ]
    },
    {
     "data": {
      "text/plain": [
       "(2551, 2514, 5, 3738)"
      ]
     },
     "execution_count": 4,
     "metadata": {},
     "output_type": "execute_result"
    }
   ],
   "source": [
    "num_found = 0\n",
    "invoices_found = set()\n",
    "samples_with_ocr_not_found = []\n",
    "samples_without_ocr_not_found = []\n",
    "\n",
    "for sample in tqdm(samples):\n",
    "    invoice = find_invoice_cached(sample)\n",
    "    if invoice is not None:\n",
    "        num_found += 1\n",
    "        invoices_found.add(invoice)\n",
    "    else:\n",
    "        ocrs = get_ocrs(sample)\n",
    "\n",
    "        if len(ocrs) > 0:\n",
    "            samples_with_ocr_not_found.append(sample)\n",
    "        else:\n",
    "            samples_without_ocr_not_found.append(sample)\n",
    "\n",
    "num_found, len(invoices_found), len(samples_with_ocr_not_found), len(samples_without_ocr_not_found)"
   ]
  },
  {
   "cell_type": "code",
   "execution_count": 5,
   "metadata": {},
   "outputs": [
    {
     "data": {
      "text/plain": [
       "[{'filename': 'Email_Attachment_2021-05-29_5554.pdf',\n",
       "  'size': 1934758,\n",
       "  'pages': 2,\n",
       "  'text': '',\n",
       "  'images': ['/mnt/c/Users/mlomb/Desktop/ParaiSUR/data-extracted/Email_Attachment_2021-05-29_5554.pdf/0.png',\n",
       "   '/mnt/c/Users/mlomb/Desktop/ParaiSUR/data-extracted/Email_Attachment_2021-05-29_5554.pdf/1.png']},\n",
       " {'filename': 'Email_Attachment_2021-05-06_6939.pdf',\n",
       "  'size': 1029814,\n",
       "  'pages': 1,\n",
       "  'text': '',\n",
       "  'images': ['/mnt/c/Users/mlomb/Desktop/ParaiSUR/data-extracted/Email_Attachment_2021-05-06_6939.pdf/0.png']},\n",
       " {'filename': 'Email_Attachment_2021-01-23_6756.pdf',\n",
       "  'size': 1457703,\n",
       "  'pages': 2,\n",
       "  'text': '',\n",
       "  'images': ['/mnt/c/Users/mlomb/Desktop/ParaiSUR/data-extracted/Email_Attachment_2021-01-23_6756.pdf/0.png',\n",
       "   '/mnt/c/Users/mlomb/Desktop/ParaiSUR/data-extracted/Email_Attachment_2021-01-23_6756.pdf/1.png']},\n",
       " {'filename': 'Email_Attachment_2021-06-08_3699.pdf',\n",
       "  'size': 442028,\n",
       "  'pages': 1,\n",
       "  'text': '',\n",
       "  'images': ['/mnt/c/Users/mlomb/Desktop/ParaiSUR/data-extracted/Email_Attachment_2021-06-08_3699.pdf/0.png']},\n",
       " {'filename': 'Email_Attachment_2021-05-18_115.pdf',\n",
       "  'size': 1470798,\n",
       "  'pages': 2,\n",
       "  'text': '',\n",
       "  'images': ['/mnt/c/Users/mlomb/Desktop/ParaiSUR/data-extracted/Email_Attachment_2021-05-18_115.pdf/0.png',\n",
       "   '/mnt/c/Users/mlomb/Desktop/ParaiSUR/data-extracted/Email_Attachment_2021-05-18_115.pdf/1.png']}]"
      ]
     },
     "execution_count": 5,
     "metadata": {},
     "output_type": "execute_result"
    }
   ],
   "source": [
    "samples_with_ocr_not_found"
   ]
  }
 ],
 "metadata": {
  "kernelspec": {
   "display_name": "ParaiSUR-FY4onnAP",
   "language": "python",
   "name": "python3"
  },
  "language_info": {
   "codemirror_mode": {
    "name": "ipython",
    "version": 3
   },
   "file_extension": ".py",
   "mimetype": "text/x-python",
   "name": "python",
   "nbconvert_exporter": "python",
   "pygments_lexer": "ipython3",
   "version": "3.10.6"
  },
  "orig_nbformat": 4
 },
 "nbformat": 4,
 "nbformat_minor": 2
}
