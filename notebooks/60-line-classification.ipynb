{
 "cells": [
  {
   "cell_type": "code",
   "execution_count": 1,
   "metadata": {},
   "outputs": [],
   "source": [
    "%load_ext autoreload\n",
    "%autoreload 2"
   ]
  },
  {
   "cell_type": "code",
   "execution_count": 2,
   "metadata": {},
   "outputs": [],
   "source": [
    "import sys\n",
    "sys.path.append('..')"
   ]
  },
  {
   "cell_type": "code",
   "execution_count": 3,
   "metadata": {},
   "outputs": [],
   "source": [
    "from tqdm import tqdm\n",
    "\n",
    "from lib.data import load_extracted_samples\n",
    "from lib.details import find_detail_lines\n",
    "from lib.line_classification import is_professional"
   ]
  },
  {
   "cell_type": "code",
   "execution_count": 4,
   "metadata": {},
   "outputs": [
    {
     "data": {
      "text/plain": [
       "8411"
      ]
     },
     "execution_count": 4,
     "metadata": {},
     "output_type": "execute_result"
    }
   ],
   "source": [
    "samples = load_extracted_samples()\n",
    "len(samples)"
   ]
  },
  {
   "cell_type": "code",
   "execution_count": 5,
   "metadata": {},
   "outputs": [
    {
     "name": "stderr",
     "output_type": "stream",
     "text": [
      "  0%|          | 0/8411 [00:00<?, ?it/s]"
     ]
    },
    {
     "name": "stderr",
     "output_type": "stream",
     "text": [
      "100%|██████████| 8411/8411 [04:12<00:00, 33.25it/s]\n"
     ]
    },
    {
     "data": {
      "text/plain": [
       "(59499, 155989)"
      ]
     },
     "execution_count": 5,
     "metadata": {},
     "output_type": "execute_result"
    }
   ],
   "source": [
    "professional_lines = []\n",
    "not_professional_lines = []\n",
    "\n",
    "for sample in tqdm(samples):\n",
    "    lines = find_detail_lines(sample)\n",
    "\n",
    "    for line in lines:\n",
    "        if line is None:\n",
    "            continue\n",
    "        \n",
    "        if is_professional(line[\"desc\"]):\n",
    "            professional_lines.append(line[\"desc\"])\n",
    "        else:\n",
    "            not_professional_lines.append(line[\"desc\"])\n",
    "\n",
    "professional_lines = sorted(professional_lines)\n",
    "not_professional_lines = sorted(not_professional_lines)\n",
    "\n",
    "len(professional_lines), len(not_professional_lines)"
   ]
  },
  {
   "cell_type": "code",
   "execution_count": 6,
   "metadata": {},
   "outputs": [],
   "source": [
    "# save list to files\n",
    "with open(\"professional_lines.txt\", \"w\") as f:\n",
    "    for line in set(professional_lines):\n",
    "        f.write(line + \"\\n\")\n",
    "\n",
    "with open(\"not_professional_lines.txt\", \"w\") as f:\n",
    "    for line in set(not_professional_lines):\n",
    "        f.write(line + \"\\n\")"
   ]
  },
  {
   "cell_type": "code",
   "execution_count": 32,
   "metadata": {},
   "outputs": [],
   "source": [
    "from collections import Counter\n",
    "\n",
    "professional_lines_counts = sorted([(count, text) for text, count in Counter(professional_lines).items()], reverse=True)\n",
    "not_professional_lines_counts = sorted([(count, text) for text, count in Counter(not_professional_lines).items()], reverse=True)\n",
    "\n",
    "# save list to files\n",
    "with open(\"professional_lines_counts.txt\", \"w\") as f:\n",
    "    for line in professional_lines_counts:\n",
    "        f.write(str(line) + \"\\n\")\n",
    "\n",
    "with open(\"not_professional_lines_counts.txt\", \"w\") as f:\n",
    "    for line in not_professional_lines_counts:\n",
    "        f.write(str(line) + \"\\n\")"
   ]
  }
 ],
 "metadata": {
  "kernelspec": {
   "display_name": "ParaiSUR-FY4onnAP",
   "language": "python",
   "name": "python3"
  },
  "language_info": {
   "codemirror_mode": {
    "name": "ipython",
    "version": 3
   },
   "file_extension": ".py",
   "mimetype": "text/x-python",
   "name": "python",
   "nbconvert_exporter": "python",
   "pygments_lexer": "ipython3",
   "version": "3.10.6"
  },
  "orig_nbformat": 4
 },
 "nbformat": 4,
 "nbformat_minor": 2
}
