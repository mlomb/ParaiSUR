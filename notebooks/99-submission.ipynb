{
 "cells": [
  {
   "attachments": {},
   "cell_type": "markdown",
   "metadata": {},
   "source": [
    "# Submission\n",
    "\n",
    "Arma `submission.csv` para subir a Kaggle."
   ]
  },
  {
   "cell_type": "code",
   "execution_count": 1,
   "metadata": {},
   "outputs": [],
   "source": [
    "import sys\n",
    "sys.path.append('..')"
   ]
  },
  {
   "cell_type": "code",
   "execution_count": 2,
   "metadata": {},
   "outputs": [],
   "source": [
    "from tqdm import tqdm\n",
    "\n",
    "from lib.data import load_all_invoices, load_extracted_samples\n",
    "from lib.details import find_detail_lines\n",
    "from lib.invoice import find_invoice\n",
    "from lib.line_classification import is_professional"
   ]
  },
  {
   "cell_type": "code",
   "execution_count": 3,
   "metadata": {},
   "outputs": [
    {
     "data": {
      "text/plain": [
       "8411"
      ]
     },
     "execution_count": 3,
     "metadata": {},
     "output_type": "execute_result"
    }
   ],
   "source": [
    "all_invoices = load_all_invoices()\n",
    "len(all_invoices)"
   ]
  },
  {
   "cell_type": "code",
   "execution_count": 4,
   "metadata": {},
   "outputs": [
    {
     "data": {
      "text/plain": [
       "8411"
      ]
     },
     "execution_count": 4,
     "metadata": {},
     "output_type": "execute_result"
    }
   ],
   "source": [
    "samples = load_extracted_samples()\n",
    "len(samples)"
   ]
  },
  {
   "cell_type": "code",
   "execution_count": 5,
   "metadata": {},
   "outputs": [
    {
     "data": {
      "text/plain": [
       "(447, 660)"
      ]
     },
     "execution_count": 5,
     "metadata": {},
     "output_type": "execute_result"
    }
   ],
   "source": [
    "with open(\"../tests/professional_lines.txt\") as f:\n",
    "    truth_prof_lines = f.readlines()\n",
    "with open(\"../tests/non_professional_lines.txt\") as f:\n",
    "    truth_non_prof_lines = f.readlines()\n",
    "\n",
    "len(truth_prof_lines), len(truth_non_prof_lines)"
   ]
  },
  {
   "cell_type": "code",
   "execution_count": 6,
   "metadata": {},
   "outputs": [
    {
     "name": "stderr",
     "output_type": "stream",
     "text": [
      "100%|██████████| 8411/8411 [03:57<00:00, 35.47it/s]\n"
     ]
    }
   ],
   "source": [
    "invoice_dict = {}\n",
    "for invoice in all_invoices:\n",
    "    invoice_dict[invoice] = None\n",
    "\n",
    "for sample in tqdm(samples):\n",
    "    filename = sample[\"filename\"][:-4] # .pdf\n",
    "    \n",
    "    invoice = find_invoice(sample)\n",
    "    detail_lines = find_detail_lines(sample)\n",
    "    \n",
    "    total = 0\n",
    "    for line in detail_lines:\n",
    "        if line is not None:\n",
    "            if line in truth_non_prof_lines:\n",
    "                continue # skip\n",
    "            if line in truth_prof_lines or is_professional(line[\"desc\"]):\n",
    "                total += line[\"total\"]\n",
    "\n",
    "    if total == 0:\n",
    "        total = None\n",
    "\n",
    "    if invoice is not None and total is not None:\n",
    "        invoice_dict[invoice] = total"
   ]
  },
  {
   "cell_type": "code",
   "execution_count": 7,
   "metadata": {},
   "outputs": [
    {
     "data": {
      "text/plain": [
       "(7994, 0.9504220663416953, 12349.48, 9048.57)"
      ]
     },
     "execution_count": 7,
     "metadata": {},
     "output_type": "execute_result"
    }
   ],
   "source": [
    "all_totals = [total for total in invoice_dict.values() if total is not None]\n",
    "avg = sum(all_totals) / len(all_totals)\n",
    "avg = round(avg, 2)\n",
    "median = sorted(all_totals)[len(all_totals) // 2]\n",
    "median = round(median, 2)\n",
    "len(all_totals), len(all_totals) / len(samples), avg, median"
   ]
  },
  {
   "cell_type": "code",
   "execution_count": 8,
   "metadata": {},
   "outputs": [],
   "source": [
    "# write csv\n",
    "with open(\"submission.csv\", 'w') as f:\n",
    "    f.write('Invoice Number,Total Charged\\n')\n",
    "    for invoice, total in invoice_dict.items():\n",
    "\n",
    "        if total == None:\n",
    "            # https://en.wikipedia.org/wiki/Mean_absolute_error#Proof_of_optimality\n",
    "            total = median\n",
    "\n",
    "        f.write(f'{invoice},{total}\\n')"
   ]
  },
  {
   "cell_type": "code",
   "execution_count": 9,
   "metadata": {},
   "outputs": [
    {
     "data": {
      "text/plain": [
       "8779.04"
      ]
     },
     "execution_count": 9,
     "metadata": {},
     "output_type": "execute_result"
    }
   ],
   "source": [
    "import pandas as pd\n",
    "\n",
    "df = pd.read_csv(\"../submissions/38_refactors_and_fixes.csv\")\n",
    "df[df[\"Total Charged\"] != 9783.46][\"Total Charged\"].median()"
   ]
  }
 ],
 "metadata": {
  "kernelspec": {
   "display_name": "ParaiSUR-FY4onnAP",
   "language": "python",
   "name": "python3"
  },
  "language_info": {
   "codemirror_mode": {
    "name": "ipython",
    "version": 3
   },
   "file_extension": ".py",
   "mimetype": "text/x-python",
   "name": "python",
   "nbconvert_exporter": "python",
   "pygments_lexer": "ipython3",
   "version": "3.10.6"
  },
  "orig_nbformat": 4
 },
 "nbformat": 4,
 "nbformat_minor": 2
}
