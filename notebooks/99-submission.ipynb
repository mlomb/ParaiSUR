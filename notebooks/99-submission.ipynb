{
 "cells": [
  {
   "cell_type": "code",
   "execution_count": 1,
   "metadata": {},
   "outputs": [],
   "source": [
    "import sys\n",
    "sys.path.append('..')"
   ]
  },
  {
   "cell_type": "code",
   "execution_count": 2,
   "metadata": {},
   "outputs": [],
   "source": [
    "from tqdm import tqdm\n",
    "\n",
    "from lib.data import load_all_invoices, load_extracted_samples\n",
    "from lib.ocr import OCRParams, ocr_sample\n",
    "from lib.invoice import extract_invoice\n",
    "from lib.text import extract_total"
   ]
  },
  {
   "cell_type": "code",
   "execution_count": 3,
   "metadata": {},
   "outputs": [
    {
     "data": {
      "text/plain": [
       "8411"
      ]
     },
     "execution_count": 3,
     "metadata": {},
     "output_type": "execute_result"
    }
   ],
   "source": [
    "all_invoices = load_all_invoices()\n",
    "len(all_invoices)"
   ]
  },
  {
   "cell_type": "code",
   "execution_count": 4,
   "metadata": {},
   "outputs": [
    {
     "data": {
      "text/plain": [
       "8411"
      ]
     },
     "execution_count": 4,
     "metadata": {},
     "output_type": "execute_result"
    }
   ],
   "source": [
    "# load samples\n",
    "samples = [sample for sample in load_extracted_samples()]\n",
    "len(samples)"
   ]
  },
  {
   "cell_type": "code",
   "execution_count": 5,
   "metadata": {},
   "outputs": [
    {
     "name": "stderr",
     "output_type": "stream",
     "text": [
      "  1%|          | 87/8411 [00:16<25:32,  5.43it/s]  \n"
     ]
    },
    {
     "ename": "KeyboardInterrupt",
     "evalue": "",
     "output_type": "error",
     "traceback": [
      "\u001b[0;31m---------------------------------------------------------------------------\u001b[0m",
      "\u001b[0;31mKeyboardInterrupt\u001b[0m                         Traceback (most recent call last)",
      "Cell \u001b[0;32mIn[5], line 23\u001b[0m\n\u001b[1;32m     20\u001b[0m \u001b[39mif\u001b[39;00m text \u001b[39m==\u001b[39m \u001b[39m\"\u001b[39m\u001b[39m\"\u001b[39m:\n\u001b[1;32m     21\u001b[0m     text \u001b[39m=\u001b[39m ocr_sample(sample, params, only_cache\u001b[39m=\u001b[39m\u001b[39mTrue\u001b[39;00m)\n\u001b[0;32m---> 23\u001b[0m invoice \u001b[39m=\u001b[39m find_invoice_cached(sample)\n\u001b[1;32m     24\u001b[0m total \u001b[39m=\u001b[39m extract_total(text)\n\u001b[1;32m     26\u001b[0m \u001b[39mif\u001b[39;00m invoice \u001b[39mis\u001b[39;00m \u001b[39mnot\u001b[39;00m \u001b[39mNone\u001b[39;00m \u001b[39mand\u001b[39;00m total \u001b[39mis\u001b[39;00m \u001b[39mnot\u001b[39;00m \u001b[39mNone\u001b[39;00m:\n",
      "File \u001b[0;32m/mnt/c/Users/mlomb/Desktop/ParaiSUR/notebooks/../lib/invoice.py:17\u001b[0m, in \u001b[0;36mfind_invoice_cached\u001b[0;34m(sample)\u001b[0m\n\u001b[1;32m     14\u001b[0m \u001b[39mif\u001b[39;00m invoice \u001b[39mis\u001b[39;00m \u001b[39mnot\u001b[39;00m \u001b[39mNone\u001b[39;00m:\n\u001b[1;32m     15\u001b[0m     \u001b[39mreturn\u001b[39;00m invoice\n\u001b[0;32m---> 17\u001b[0m invoice \u001b[39m=\u001b[39m find_invoice(sample)\n\u001b[1;32m     18\u001b[0m \u001b[39mif\u001b[39;00m invoice \u001b[39mis\u001b[39;00m \u001b[39mnot\u001b[39;00m \u001b[39mNone\u001b[39;00m:\n\u001b[1;32m     19\u001b[0m     set_cache(sample[\u001b[39m\"\u001b[39m\u001b[39mfilename\u001b[39m\u001b[39m\"\u001b[39m] \u001b[39m+\u001b[39m \u001b[39m\"\u001b[39m\u001b[39m-invoice.txt\u001b[39m\u001b[39m\"\u001b[39m, invoice)\n",
      "File \u001b[0;32m/mnt/c/Users/mlomb/Desktop/ParaiSUR/notebooks/../lib/invoice.py:30\u001b[0m, in \u001b[0;36mfind_invoice\u001b[0;34m(sample)\u001b[0m\n\u001b[1;32m     28\u001b[0m \u001b[39m# intentar extraer del nombre\u001b[39;00m\n\u001b[1;32m     29\u001b[0m invoice \u001b[39m=\u001b[39m sample[\u001b[39m\"\u001b[39m\u001b[39mfilename\u001b[39m\u001b[39m\"\u001b[39m][:\u001b[39m-\u001b[39m\u001b[39m4\u001b[39m]  \u001b[39m# .pdf\u001b[39;00m\n\u001b[0;32m---> 30\u001b[0m invoice \u001b[39m=\u001b[39m validate_invoice(invoice)\n\u001b[1;32m     32\u001b[0m \u001b[39m# intentar extraer del texto real del PDF\u001b[39;00m\n\u001b[1;32m     33\u001b[0m \u001b[39mif\u001b[39;00m invoice \u001b[39mis\u001b[39;00m \u001b[39mNone\u001b[39;00m \u001b[39mand\u001b[39;00m \u001b[39mlen\u001b[39m(sample[\u001b[39m\"\u001b[39m\u001b[39mtext\u001b[39m\u001b[39m\"\u001b[39m]) \u001b[39m>\u001b[39m \u001b[39m0\u001b[39m:\n",
      "File \u001b[0;32m/mnt/c/Users/mlomb/Desktop/ParaiSUR/notebooks/../lib/invoice.py:62\u001b[0m, in \u001b[0;36mvalidate_invoice\u001b[0;34m(candidate)\u001b[0m\n\u001b[1;32m     59\u001b[0m best_match \u001b[39m=\u001b[39m \u001b[39mNone\u001b[39;00m\n\u001b[1;32m     61\u001b[0m \u001b[39mfor\u001b[39;00m invoice \u001b[39min\u001b[39;00m all_invoices:\n\u001b[0;32m---> 62\u001b[0m     dist \u001b[39m=\u001b[39m nltk\u001b[39m.\u001b[39;49medit_distance(invoice, candidate)\n\u001b[1;32m     63\u001b[0m     \u001b[39mif\u001b[39;00m dist \u001b[39m<\u001b[39m best_dist:\n\u001b[1;32m     64\u001b[0m         best_dist \u001b[39m=\u001b[39m dist\n",
      "File \u001b[0;32m~/.local/share/virtualenvs/ParaiSUR-FY4onnAP/lib/python3.10/site-packages/nltk/metrics/distance.py:109\u001b[0m, in \u001b[0;36medit_distance\u001b[0;34m(s1, s2, substitution_cost, transpositions)\u001b[0m\n\u001b[1;32m    107\u001b[0m last_left \u001b[39m=\u001b[39m last_left_t[s2[j \u001b[39m-\u001b[39m \u001b[39m1\u001b[39m]]\n\u001b[1;32m    108\u001b[0m last_right \u001b[39m=\u001b[39m last_right_buf\n\u001b[0;32m--> 109\u001b[0m \u001b[39mif\u001b[39;00m s1[i \u001b[39m-\u001b[39m \u001b[39m1\u001b[39m] \u001b[39m==\u001b[39m s2[j \u001b[39m-\u001b[39m \u001b[39m1\u001b[39m]:\n\u001b[1;32m    110\u001b[0m     last_right_buf \u001b[39m=\u001b[39m j\n\u001b[1;32m    111\u001b[0m _edit_dist_step(\n\u001b[1;32m    112\u001b[0m     lev,\n\u001b[1;32m    113\u001b[0m     i,\n\u001b[0;32m   (...)\u001b[0m\n\u001b[1;32m    120\u001b[0m     transpositions\u001b[39m=\u001b[39mtranspositions,\n\u001b[1;32m    121\u001b[0m )\n",
      "\u001b[0;31mKeyboardInterrupt\u001b[0m: "
     ]
    }
   ],
   "source": [
    "from lib.invoice import find_invoice_cached\n",
    "\n",
    "\n",
    "invoice_dict = {}\n",
    "for invoice in all_invoices:\n",
    "    invoice_dict[invoice] = None\n",
    "    \n",
    "params = OCRParams(\n",
    "    engine=\"easyocr\",\n",
    "    grayscale=False,\n",
    "    threshold=None\n",
    ")\n",
    "\n",
    "detected_but_not_found = []\n",
    "\n",
    "for sample in tqdm(samples):\n",
    "    filename = sample[\"filename\"][:-4] # .pdf\n",
    "    \n",
    "    text = sample[\"text\"]\n",
    "    if text == \"\":\n",
    "        text = ocr_sample(sample, params, only_cache=True)\n",
    "    \n",
    "    invoice = find_invoice_cached(sample)\n",
    "    total = extract_total(text)\n",
    "\n",
    "    if invoice is not None and total is not None:\n",
    "        if invoice in all_invoices:\n",
    "            invoice_dict[invoice] = total\n",
    "        else:\n",
    "            # print(f'invoice detected {invoice} but not found in all_invoices')\n",
    "            detected_but_not_found.append(invoice)"
   ]
  },
  {
   "cell_type": "code",
   "execution_count": null,
   "metadata": {},
   "outputs": [],
   "source": [
    "len(detected_but_not_found)"
   ]
  },
  {
   "cell_type": "code",
   "execution_count": null,
   "metadata": {},
   "outputs": [],
   "source": [
    "all_totals = [total for total in invoice_dict.values() if total is not None]\n",
    "avg = sum(all_totals) / len(all_totals)\n",
    "avg = round(avg, 2)\n",
    "len(all_totals), len(all_totals) / len(samples), avg"
   ]
  },
  {
   "cell_type": "code",
   "execution_count": null,
   "metadata": {},
   "outputs": [],
   "source": [
    "# write csv\n",
    "with open(\"submission.csv\", 'w') as f:\n",
    "    f.write('Invoice Number,Total Charged\\n')\n",
    "    for invoice, total in invoice_dict.items():\n",
    "\n",
    "        if total == None:\n",
    "            total = 10341.62 # avg\n",
    "\n",
    "        f.write(f'{invoice},{total}\\n')"
   ]
  }
 ],
 "metadata": {
  "kernelspec": {
   "display_name": "ParaiSUR-FY4onnAP",
   "language": "python",
   "name": "python3"
  },
  "language_info": {
   "codemirror_mode": {
    "name": "ipython",
    "version": 3
   },
   "file_extension": ".py",
   "mimetype": "text/x-python",
   "name": "python",
   "nbconvert_exporter": "python",
   "pygments_lexer": "ipython3",
   "version": "3.10.6"
  },
  "orig_nbformat": 4
 },
 "nbformat": 4,
 "nbformat_minor": 2
}
