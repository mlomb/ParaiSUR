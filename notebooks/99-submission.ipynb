{
 "cells": [
  {
   "cell_type": "code",
   "execution_count": 1,
   "metadata": {},
   "outputs": [],
   "source": [
    "import sys\n",
    "sys.path.append('..')"
   ]
  },
  {
   "cell_type": "code",
   "execution_count": 2,
   "metadata": {},
   "outputs": [],
   "source": [
    "from tqdm import tqdm\n",
    "\n",
    "from lib.data import load_all_invoices"
   ]
  },
  {
   "cell_type": "code",
   "execution_count": 3,
   "metadata": {},
   "outputs": [
    {
     "data": {
      "text/plain": [
       "8411"
      ]
     },
     "execution_count": 3,
     "metadata": {},
     "output_type": "execute_result"
    }
   ],
   "source": [
    "invoices = load_all_invoices()\n",
    "len(invoices)"
   ]
  },
  {
   "cell_type": "code",
   "execution_count": 4,
   "metadata": {},
   "outputs": [
    {
     "name": "stderr",
     "output_type": "stream",
     "text": [
      "257it [09:00,  2.10s/it]\n"
     ]
    },
    {
     "ename": "KeyboardInterrupt",
     "evalue": "",
     "output_type": "error",
     "traceback": [
      "\u001b[0;31m---------------------------------------------------------------------------\u001b[0m",
      "\u001b[0;31mAttributeError\u001b[0m                            Traceback (most recent call last)",
      "File \u001b[0;32m~/.local/share/virtualenvs/ParaiSUR-FY4onnAP/lib/python3.10/site-packages/PIL/ImageFile.py:515\u001b[0m, in \u001b[0;36m_save\u001b[0;34m(im, fp, tile, bufsize)\u001b[0m\n\u001b[1;32m    514\u001b[0m \u001b[39mtry\u001b[39;00m:\n\u001b[0;32m--> 515\u001b[0m     fh \u001b[39m=\u001b[39m fp\u001b[39m.\u001b[39;49mfileno()\n\u001b[1;32m    516\u001b[0m     fp\u001b[39m.\u001b[39mflush()\n",
      "\u001b[0;31mAttributeError\u001b[0m: '_idat' object has no attribute 'fileno'",
      "\nDuring handling of the above exception, another exception occurred:\n",
      "\u001b[0;31mKeyboardInterrupt\u001b[0m                         Traceback (most recent call last)",
      "Cell \u001b[0;32mIn[4], line 2\u001b[0m\n\u001b[1;32m      1\u001b[0m \u001b[39m# load samples\u001b[39;00m\n\u001b[0;32m----> 2\u001b[0m samples \u001b[39m=\u001b[39m [sample \u001b[39mfor\u001b[39;00m sample \u001b[39min\u001b[39;00m tqdm(load_data())]\n",
      "Cell \u001b[0;32mIn[4], line 2\u001b[0m, in \u001b[0;36m<listcomp>\u001b[0;34m(.0)\u001b[0m\n\u001b[1;32m      1\u001b[0m \u001b[39m# load samples\u001b[39;00m\n\u001b[0;32m----> 2\u001b[0m samples \u001b[39m=\u001b[39m [sample \u001b[39mfor\u001b[39;00m sample \u001b[39min\u001b[39;00m tqdm(load_data())]\n",
      "File \u001b[0;32m~/.local/share/virtualenvs/ParaiSUR-FY4onnAP/lib/python3.10/site-packages/tqdm/std.py:1178\u001b[0m, in \u001b[0;36mtqdm.__iter__\u001b[0;34m(self)\u001b[0m\n\u001b[1;32m   1175\u001b[0m time \u001b[39m=\u001b[39m \u001b[39mself\u001b[39m\u001b[39m.\u001b[39m_time\n\u001b[1;32m   1177\u001b[0m \u001b[39mtry\u001b[39;00m:\n\u001b[0;32m-> 1178\u001b[0m     \u001b[39mfor\u001b[39;00m obj \u001b[39min\u001b[39;00m iterable:\n\u001b[1;32m   1179\u001b[0m         \u001b[39myield\u001b[39;00m obj\n\u001b[1;32m   1180\u001b[0m         \u001b[39m# Update and possibly print the progressbar.\u001b[39;00m\n\u001b[1;32m   1181\u001b[0m         \u001b[39m# Note: does not call self.update(1) for speed optimisation.\u001b[39;00m\n",
      "File \u001b[0;32m/mnt/c/Users/mlomb/Desktop/ParaiSUR/notebooks/../lib/data.py:17\u001b[0m, in \u001b[0;36mload_data\u001b[0;34m(path)\u001b[0m\n\u001b[1;32m     15\u001b[0m \u001b[39mfor\u001b[39;00m filename \u001b[39min\u001b[39;00m files[:SUB_SAMPLE]:\n\u001b[1;32m     16\u001b[0m     \u001b[39mif\u001b[39;00m filename\u001b[39m.\u001b[39mendswith(\u001b[39m\"\u001b[39m\u001b[39m.pdf\u001b[39m\u001b[39m\"\u001b[39m):\n\u001b[0;32m---> 17\u001b[0m         \u001b[39myield\u001b[39;00m load_sample(path \u001b[39m/\u001b[39;49m filename)\n\u001b[1;32m     19\u001b[0m \u001b[39mreturn\u001b[39;00m \u001b[39mNone\u001b[39;00m\n",
      "File \u001b[0;32m/mnt/c/Users/mlomb/Desktop/ParaiSUR/notebooks/../lib/sample.py:37\u001b[0m, in \u001b[0;36mload_sample\u001b[0;34m(path)\u001b[0m\n\u001b[1;32m     28\u001b[0m text \u001b[39m=\u001b[39m text\u001b[39m.\u001b[39mstrip()\n\u001b[1;32m     30\u001b[0m invoice, total \u001b[39m=\u001b[39m extract_from_text(text)\n\u001b[1;32m     32\u001b[0m \u001b[39mreturn\u001b[39;00m Sample(\n\u001b[1;32m     33\u001b[0m     path\u001b[39m=\u001b[39mpath\u001b[39m.\u001b[39mname,\n\u001b[1;32m     34\u001b[0m     size\u001b[39m=\u001b[39mos\u001b[39m.\u001b[39mpath\u001b[39m.\u001b[39mgetsize(path),\n\u001b[1;32m     35\u001b[0m     pages\u001b[39m=\u001b[39m\u001b[39mlen\u001b[39m(reader\u001b[39m.\u001b[39mpages),\n\u001b[1;32m     36\u001b[0m     text\u001b[39m=\u001b[39mtext,\n\u001b[0;32m---> 37\u001b[0m     images\u001b[39m=\u001b[39m[file\u001b[39m.\u001b[39mimage \u001b[39mfor\u001b[39;00m page \u001b[39min\u001b[39;00m reader\u001b[39m.\u001b[39mpages \u001b[39mfor\u001b[39;00m file \u001b[39min\u001b[39;00m page\u001b[39m.\u001b[39mimages],\n\u001b[1;32m     38\u001b[0m     invoice\u001b[39m=\u001b[39minvoice,\n\u001b[1;32m     39\u001b[0m     total\u001b[39m=\u001b[39mtotal,\n\u001b[1;32m     40\u001b[0m )\n",
      "File \u001b[0;32m/mnt/c/Users/mlomb/Desktop/ParaiSUR/notebooks/../lib/sample.py:37\u001b[0m, in \u001b[0;36m<listcomp>\u001b[0;34m(.0)\u001b[0m\n\u001b[1;32m     28\u001b[0m text \u001b[39m=\u001b[39m text\u001b[39m.\u001b[39mstrip()\n\u001b[1;32m     30\u001b[0m invoice, total \u001b[39m=\u001b[39m extract_from_text(text)\n\u001b[1;32m     32\u001b[0m \u001b[39mreturn\u001b[39;00m Sample(\n\u001b[1;32m     33\u001b[0m     path\u001b[39m=\u001b[39mpath\u001b[39m.\u001b[39mname,\n\u001b[1;32m     34\u001b[0m     size\u001b[39m=\u001b[39mos\u001b[39m.\u001b[39mpath\u001b[39m.\u001b[39mgetsize(path),\n\u001b[1;32m     35\u001b[0m     pages\u001b[39m=\u001b[39m\u001b[39mlen\u001b[39m(reader\u001b[39m.\u001b[39mpages),\n\u001b[1;32m     36\u001b[0m     text\u001b[39m=\u001b[39mtext,\n\u001b[0;32m---> 37\u001b[0m     images\u001b[39m=\u001b[39m[file\u001b[39m.\u001b[39mimage \u001b[39mfor\u001b[39;00m page \u001b[39min\u001b[39;00m reader\u001b[39m.\u001b[39mpages \u001b[39mfor\u001b[39;00m file \u001b[39min\u001b[39;00m page\u001b[39m.\u001b[39mimages],\n\u001b[1;32m     38\u001b[0m     invoice\u001b[39m=\u001b[39minvoice,\n\u001b[1;32m     39\u001b[0m     total\u001b[39m=\u001b[39mtotal,\n\u001b[1;32m     40\u001b[0m )\n",
      "File \u001b[0;32m~/.local/share/virtualenvs/ParaiSUR-FY4onnAP/lib/python3.10/site-packages/pypdf/_page.py:2555\u001b[0m, in \u001b[0;36m_VirtualListImages.__iter__\u001b[0;34m(self)\u001b[0m\n\u001b[1;32m   2553\u001b[0m \u001b[39mdef\u001b[39;00m \u001b[39m__iter__\u001b[39m(\u001b[39mself\u001b[39m) \u001b[39m-\u001b[39m\u001b[39m>\u001b[39m Iterator[ImageFile]:\n\u001b[1;32m   2554\u001b[0m     \u001b[39mfor\u001b[39;00m i \u001b[39min\u001b[39;00m \u001b[39mrange\u001b[39m(\u001b[39mlen\u001b[39m(\u001b[39mself\u001b[39m)):\n\u001b[0;32m-> 2555\u001b[0m         \u001b[39myield\u001b[39;00m \u001b[39mself\u001b[39;49m[i]\n",
      "File \u001b[0;32m~/.local/share/virtualenvs/ParaiSUR-FY4onnAP/lib/python3.10/site-packages/pypdf/_page.py:2551\u001b[0m, in \u001b[0;36m_VirtualListImages.__getitem__\u001b[0;34m(self, index)\u001b[0m\n\u001b[1;32m   2549\u001b[0m \u001b[39mif\u001b[39;00m index \u001b[39m<\u001b[39m \u001b[39m0\u001b[39m \u001b[39mor\u001b[39;00m index \u001b[39m>\u001b[39m\u001b[39m=\u001b[39m len_self:\n\u001b[1;32m   2550\u001b[0m     \u001b[39mraise\u001b[39;00m \u001b[39mIndexError\u001b[39;00m(\u001b[39m\"\u001b[39m\u001b[39msequence index out of range\u001b[39m\u001b[39m\"\u001b[39m)\n\u001b[0;32m-> 2551\u001b[0m \u001b[39mreturn\u001b[39;00m \u001b[39mself\u001b[39;49m\u001b[39m.\u001b[39;49mget_function(lst[index])\n",
      "File \u001b[0;32m~/.local/share/virtualenvs/ParaiSUR-FY4onnAP/lib/python3.10/site-packages/pypdf/_page.py:522\u001b[0m, in \u001b[0;36mPageObject._get_image\u001b[0;34m(self, id, obj)\u001b[0m\n\u001b[1;32m    519\u001b[0m         \u001b[39mraise\u001b[39;00m \u001b[39mKeyError\u001b[39;00m(\u001b[39m\"\u001b[39m\u001b[39mno inline image can be found\u001b[39m\u001b[39m\"\u001b[39m)\n\u001b[1;32m    520\u001b[0m     \u001b[39mreturn\u001b[39;00m \u001b[39mself\u001b[39m\u001b[39m.\u001b[39minline_images[\u001b[39mid\u001b[39m]\n\u001b[0;32m--> 522\u001b[0m imgd \u001b[39m=\u001b[39m _xobj_to_image(cast(DictionaryObject, xobjs[\u001b[39mid\u001b[39;49m]))\n\u001b[1;32m    523\u001b[0m extension, byte_stream \u001b[39m=\u001b[39m imgd[:\u001b[39m2\u001b[39m]\n\u001b[1;32m    524\u001b[0m f \u001b[39m=\u001b[39m ImageFile(\n\u001b[1;32m    525\u001b[0m     name\u001b[39m=\u001b[39m\u001b[39mf\u001b[39m\u001b[39m\"\u001b[39m\u001b[39m{\u001b[39;00m\u001b[39mid\u001b[39m[\u001b[39m1\u001b[39m:]\u001b[39m}\u001b[39;00m\u001b[39m{\u001b[39;00mextension\u001b[39m}\u001b[39;00m\u001b[39m\"\u001b[39m,\n\u001b[1;32m    526\u001b[0m     data\u001b[39m=\u001b[39mbyte_stream,\n\u001b[1;32m    527\u001b[0m     image\u001b[39m=\u001b[39mimgd[\u001b[39m2\u001b[39m],\n\u001b[1;32m    528\u001b[0m     indirect_reference\u001b[39m=\u001b[39mxobjs[\u001b[39mid\u001b[39m]\u001b[39m.\u001b[39mindirect_reference,\n\u001b[1;32m    529\u001b[0m )\n",
      "File \u001b[0;32m~/.local/share/virtualenvs/ParaiSUR-FY4onnAP/lib/python3.10/site-packages/pypdf/filters.py:902\u001b[0m, in \u001b[0;36m_xobj_to_image\u001b[0;34m(x_object_obj)\u001b[0m\n\u001b[1;32m    900\u001b[0m img_byte_arr \u001b[39m=\u001b[39m BytesIO()\n\u001b[1;32m    901\u001b[0m \u001b[39mtry\u001b[39;00m:\n\u001b[0;32m--> 902\u001b[0m     img\u001b[39m.\u001b[39;49msave(img_byte_arr, \u001b[39mformat\u001b[39;49m\u001b[39m=\u001b[39;49mimage_format)\n\u001b[1;32m    903\u001b[0m \u001b[39mexcept\u001b[39;00m \u001b[39mOSError\u001b[39;00m:  \u001b[39m# pragma: no cover\u001b[39;00m\n\u001b[1;32m    904\u001b[0m     \u001b[39m# odd error\u001b[39;00m\n\u001b[1;32m    905\u001b[0m     img_byte_arr \u001b[39m=\u001b[39m BytesIO()\n",
      "File \u001b[0;32m~/.local/share/virtualenvs/ParaiSUR-FY4onnAP/lib/python3.10/site-packages/PIL/Image.py:2413\u001b[0m, in \u001b[0;36mImage.save\u001b[0;34m(self, fp, format, **params)\u001b[0m\n\u001b[1;32m   2410\u001b[0m         fp \u001b[39m=\u001b[39m builtins\u001b[39m.\u001b[39mopen(filename, \u001b[39m\"\u001b[39m\u001b[39mw+b\u001b[39m\u001b[39m\"\u001b[39m)\n\u001b[1;32m   2412\u001b[0m \u001b[39mtry\u001b[39;00m:\n\u001b[0;32m-> 2413\u001b[0m     save_handler(\u001b[39mself\u001b[39;49m, fp, filename)\n\u001b[1;32m   2414\u001b[0m \u001b[39mexcept\u001b[39;00m \u001b[39mException\u001b[39;00m:\n\u001b[1;32m   2415\u001b[0m     \u001b[39mif\u001b[39;00m open_fp:\n",
      "File \u001b[0;32m~/.local/share/virtualenvs/ParaiSUR-FY4onnAP/lib/python3.10/site-packages/PIL/PngImagePlugin.py:1398\u001b[0m, in \u001b[0;36m_save\u001b[0;34m(im, fp, filename, chunk, save_all)\u001b[0m\n\u001b[1;32m   1396\u001b[0m     _write_multiple_frames(im, fp, chunk, rawmode, default_image, append_images)\n\u001b[1;32m   1397\u001b[0m \u001b[39melse\u001b[39;00m:\n\u001b[0;32m-> 1398\u001b[0m     ImageFile\u001b[39m.\u001b[39;49m_save(im, _idat(fp, chunk), [(\u001b[39m\"\u001b[39;49m\u001b[39mzip\u001b[39;49m\u001b[39m\"\u001b[39;49m, (\u001b[39m0\u001b[39;49m, \u001b[39m0\u001b[39;49m) \u001b[39m+\u001b[39;49m im\u001b[39m.\u001b[39;49msize, \u001b[39m0\u001b[39;49m, rawmode)])\n\u001b[1;32m   1400\u001b[0m \u001b[39mif\u001b[39;00m info:\n\u001b[1;32m   1401\u001b[0m     \u001b[39mfor\u001b[39;00m info_chunk \u001b[39min\u001b[39;00m info\u001b[39m.\u001b[39mchunks:\n",
      "File \u001b[0;32m~/.local/share/virtualenvs/ParaiSUR-FY4onnAP/lib/python3.10/site-packages/PIL/ImageFile.py:519\u001b[0m, in \u001b[0;36m_save\u001b[0;34m(im, fp, tile, bufsize)\u001b[0m\n\u001b[1;32m    517\u001b[0m     _encode_tile(im, fp, tile, bufsize, fh)\n\u001b[1;32m    518\u001b[0m \u001b[39mexcept\u001b[39;00m (\u001b[39mAttributeError\u001b[39;00m, io\u001b[39m.\u001b[39mUnsupportedOperation) \u001b[39mas\u001b[39;00m exc:\n\u001b[0;32m--> 519\u001b[0m     _encode_tile(im, fp, tile, bufsize, \u001b[39mNone\u001b[39;49;00m, exc)\n\u001b[1;32m    520\u001b[0m \u001b[39mif\u001b[39;00m \u001b[39mhasattr\u001b[39m(fp, \u001b[39m\"\u001b[39m\u001b[39mflush\u001b[39m\u001b[39m\"\u001b[39m):\n\u001b[1;32m    521\u001b[0m     fp\u001b[39m.\u001b[39mflush()\n",
      "File \u001b[0;32m~/.local/share/virtualenvs/ParaiSUR-FY4onnAP/lib/python3.10/site-packages/PIL/ImageFile.py:538\u001b[0m, in \u001b[0;36m_encode_tile\u001b[0;34m(im, fp, tile, bufsize, fh, exc)\u001b[0m\n\u001b[1;32m    535\u001b[0m \u001b[39mif\u001b[39;00m exc:\n\u001b[1;32m    536\u001b[0m     \u001b[39m# compress to Python file-compatible object\u001b[39;00m\n\u001b[1;32m    537\u001b[0m     \u001b[39mwhile\u001b[39;00m \u001b[39mTrue\u001b[39;00m:\n\u001b[0;32m--> 538\u001b[0m         errcode, data \u001b[39m=\u001b[39m encoder\u001b[39m.\u001b[39;49mencode(bufsize)[\u001b[39m1\u001b[39m:]\n\u001b[1;32m    539\u001b[0m         fp\u001b[39m.\u001b[39mwrite(data)\n\u001b[1;32m    540\u001b[0m         \u001b[39mif\u001b[39;00m errcode:\n",
      "\u001b[0;31mKeyboardInterrupt\u001b[0m: "
     ]
    }
   ],
   "source": [
    "# load samples\n",
    "samples = [sample for sample in tqdm(load_data())]"
   ]
  },
  {
   "cell_type": "code",
   "execution_count": null,
   "metadata": {},
   "outputs": [],
   "source": [
    "def build_submission(progress: int, samples: list[Sample]):\n",
    "    # build dict\n",
    "    invoice_dict = {}\n",
    "    for invoice in invoices:\n",
    "        invoice = invoice.strip()\n",
    "        invoice_dict[invoice] = None\n",
    "        \n",
    "    # fill dict\n",
    "    for sample in samples:\n",
    "        # check not na\n",
    "        if sample.invoice is not None and sample.total is not None:\n",
    "            if sample.invoice in invoice_dict:\n",
    "                invoice_dict[sample.invoice] = sample.total\n",
    "            else:\n",
    "                print(f'invoice {sample.invoice} not found')\n",
    "                \n",
    "    all_totals = [total for total in invoice_dict.values() if total is not None]\n",
    "    avg = sum(all_totals) / len(all_totals)\n",
    "    avg = round(avg, 2)\n",
    "\n",
    "    # write csvs\n",
    "    def write_submission(file, default):\n",
    "        with open(file, 'w') as f:\n",
    "            f.write('Invoice Number,Total Charged\\n')\n",
    "            for invoice, total in invoice_dict.items():\n",
    "\n",
    "                if total == None:\n",
    "                    total = default\n",
    "\n",
    "                f.write(f'{invoice},{total}\\n')\n",
    "\n",
    "    write_submission(f'../submission-{progress}-zero.csv', 0)\n",
    "    write_submission(f'../submission-{progress}-avg.csv', avg)"
   ]
  },
  {
   "cell_type": "code",
   "execution_count": null,
   "metadata": {},
   "outputs": [],
   "source": [
    "# run ocr if necessary\n",
    "for i, sample in tqdm(enumerate(samples)):\n",
    "    sample = try_ocr(sample)\n",
    "\n",
    "    if i % 5 == 0:\n",
    "        build_submission(i, samples)"
   ]
  },
  {
   "cell_type": "code",
   "execution_count": null,
   "metadata": {},
   "outputs": [],
   "source": [
    "build_submission(\"full\", samples)"
   ]
  }
 ],
 "metadata": {
  "kernelspec": {
   "display_name": "ParaiSUR-FY4onnAP",
   "language": "python",
   "name": "python3"
  },
  "language_info": {
   "codemirror_mode": {
    "name": "ipython",
    "version": 3
   },
   "file_extension": ".py",
   "mimetype": "text/x-python",
   "name": "python",
   "nbconvert_exporter": "python",
   "pygments_lexer": "ipython3",
   "version": "3.10.6"
  },
  "orig_nbformat": 4
 },
 "nbformat": 4,
 "nbformat_minor": 2
}
