{
 "cells": [
  {
   "cell_type": "code",
   "execution_count": 1,
   "metadata": {},
   "outputs": [],
   "source": [
    "import sys\n",
    "sys.path.append('..')"
   ]
  },
  {
   "cell_type": "code",
   "execution_count": 2,
   "metadata": {},
   "outputs": [],
   "source": [
    "from tqdm import tqdm\n",
    "\n",
    "from lib.data import load_all_invoices, load_extracted_samples\n",
    "from lib.ocr import OCRParams, ocr_sample\n",
    "from lib.text import extract_invoice, extract_total"
   ]
  },
  {
   "cell_type": "code",
   "execution_count": 3,
   "metadata": {},
   "outputs": [
    {
     "data": {
      "text/plain": [
       "8411"
      ]
     },
     "execution_count": 3,
     "metadata": {},
     "output_type": "execute_result"
    }
   ],
   "source": [
    "all_invoices = load_all_invoices()\n",
    "len(all_invoices)"
   ]
  },
  {
   "cell_type": "code",
   "execution_count": 4,
   "metadata": {},
   "outputs": [
    {
     "data": {
      "text/plain": [
       "8411"
      ]
     },
     "execution_count": 4,
     "metadata": {},
     "output_type": "execute_result"
    }
   ],
   "source": [
    "# load samples\n",
    "samples = [sample for sample in load_extracted_samples()]\n",
    "len(samples)"
   ]
  },
  {
   "cell_type": "code",
   "execution_count": 5,
   "metadata": {},
   "outputs": [
    {
     "name": "stderr",
     "output_type": "stream",
     "text": [
      "  5%|▌         | 426/8411 [00:02<00:52, 152.31it/s]"
     ]
    },
    {
     "name": "stdout",
     "output_type": "stream",
     "text": [
      "{'filename': '2021-08-03_1.pdf', 'size': 1104551, 'pages': 2, 'text': '', 'images': ['/mnt/c/Users/mlomb/Desktop/ParaiSUR/data-extracted/2021-08-03_1.pdf/0.png', '/mnt/c/Users/mlomb/Desktop/ParaiSUR/data-extracted/2021-08-03_1.pdf/1.png']}\n"
     ]
    },
    {
     "name": "stderr",
     "output_type": "stream",
     "text": [
      "  6%|▌         | 522/8411 [00:03<00:51, 153.36it/s]\n"
     ]
    },
    {
     "ename": "KeyboardInterrupt",
     "evalue": "",
     "output_type": "error",
     "traceback": [
      "\u001b[0;31m---------------------------------------------------------------------------\u001b[0m",
      "\u001b[0;31mKeyboardInterrupt\u001b[0m                         Traceback (most recent call last)",
      "Cell \u001b[0;32mIn[5], line 16\u001b[0m\n\u001b[1;32m     14\u001b[0m text \u001b[39m=\u001b[39m sample[\u001b[39m\"\u001b[39m\u001b[39mtext\u001b[39m\u001b[39m\"\u001b[39m]\n\u001b[1;32m     15\u001b[0m \u001b[39mif\u001b[39;00m text \u001b[39m==\u001b[39m \u001b[39m\"\u001b[39m\u001b[39m\"\u001b[39m:\n\u001b[0;32m---> 16\u001b[0m     text \u001b[39m=\u001b[39m ocr_sample(sample, params, only_cache\u001b[39m=\u001b[39;49m\u001b[39mTrue\u001b[39;49;00m)\n\u001b[1;32m     18\u001b[0m invoice \u001b[39m=\u001b[39m extract_invoice(text)\n\u001b[1;32m     19\u001b[0m total \u001b[39m=\u001b[39m extract_total(text)\n",
      "File \u001b[0;32m/mnt/c/Users/mlomb/Desktop/ParaiSUR/notebooks/../lib/ocr.py:37\u001b[0m, in \u001b[0;36mocr_sample\u001b[0;34m(sample, params, only_cache)\u001b[0m\n\u001b[1;32m     35\u001b[0m \u001b[39m# try to load from cache\u001b[39;00m\n\u001b[1;32m     36\u001b[0m \u001b[39mif\u001b[39;00m cache_file\u001b[39m.\u001b[39mexists():\n\u001b[0;32m---> 37\u001b[0m     \u001b[39mreturn\u001b[39;00m cache_file\u001b[39m.\u001b[39;49mread_text()\n\u001b[1;32m     39\u001b[0m \u001b[39mif\u001b[39;00m only_cache:\n\u001b[1;32m     40\u001b[0m     \u001b[39mreturn\u001b[39;00m \u001b[39m\"\u001b[39m\u001b[39m\"\u001b[39m\n",
      "File \u001b[0;32m/usr/lib/python3.10/pathlib.py:1135\u001b[0m, in \u001b[0;36mPath.read_text\u001b[0;34m(self, encoding, errors)\u001b[0m\n\u001b[1;32m   1133\u001b[0m encoding \u001b[39m=\u001b[39m io\u001b[39m.\u001b[39mtext_encoding(encoding)\n\u001b[1;32m   1134\u001b[0m \u001b[39mwith\u001b[39;00m \u001b[39mself\u001b[39m\u001b[39m.\u001b[39mopen(mode\u001b[39m=\u001b[39m\u001b[39m'\u001b[39m\u001b[39mr\u001b[39m\u001b[39m'\u001b[39m, encoding\u001b[39m=\u001b[39mencoding, errors\u001b[39m=\u001b[39merrors) \u001b[39mas\u001b[39;00m f:\n\u001b[0;32m-> 1135\u001b[0m     \u001b[39mreturn\u001b[39;00m f\u001b[39m.\u001b[39;49mread()\n",
      "File \u001b[0;32m/usr/lib/python3.10/codecs.py:319\u001b[0m, in \u001b[0;36mBufferedIncrementalDecoder.decode\u001b[0;34m(self, input, final)\u001b[0m\n\u001b[1;32m    314\u001b[0m \u001b[39mdef\u001b[39;00m \u001b[39m_buffer_decode\u001b[39m(\u001b[39mself\u001b[39m, \u001b[39minput\u001b[39m, errors, final):\n\u001b[1;32m    315\u001b[0m     \u001b[39m# Overwrite this method in subclasses: It must decode input\u001b[39;00m\n\u001b[1;32m    316\u001b[0m     \u001b[39m# and return an (output, length consumed) tuple\u001b[39;00m\n\u001b[1;32m    317\u001b[0m     \u001b[39mraise\u001b[39;00m \u001b[39mNotImplementedError\u001b[39;00m\n\u001b[0;32m--> 319\u001b[0m \u001b[39mdef\u001b[39;00m \u001b[39mdecode\u001b[39m(\u001b[39mself\u001b[39m, \u001b[39minput\u001b[39m, final\u001b[39m=\u001b[39m\u001b[39mFalse\u001b[39;00m):\n\u001b[1;32m    320\u001b[0m     \u001b[39m# decode input (taking the buffer into account)\u001b[39;00m\n\u001b[1;32m    321\u001b[0m     data \u001b[39m=\u001b[39m \u001b[39mself\u001b[39m\u001b[39m.\u001b[39mbuffer \u001b[39m+\u001b[39m \u001b[39minput\u001b[39m\n\u001b[1;32m    322\u001b[0m     (result, consumed) \u001b[39m=\u001b[39m \u001b[39mself\u001b[39m\u001b[39m.\u001b[39m_buffer_decode(data, \u001b[39mself\u001b[39m\u001b[39m.\u001b[39merrors, final)\n",
      "\u001b[0;31mKeyboardInterrupt\u001b[0m: "
     ]
    }
   ],
   "source": [
    "invoice_dict = {}\n",
    "for invoice in all_invoices:\n",
    "    invoice_dict[invoice] = None\n",
    "    \n",
    "params = OCRParams(\n",
    "    engine=\"easyocr\",\n",
    "    grayscale=False,\n",
    "    threshold=None\n",
    ")\n",
    "\n",
    "detected_but_not_found = []\n",
    "\n",
    "for sample in tqdm(samples):\n",
    "    text = sample[\"text\"]\n",
    "    if text == \"\":\n",
    "        text = ocr_sample(sample, params, only_cache=True)\n",
    "    \n",
    "    invoice = extract_invoice(text)\n",
    "    total = extract_total(text)\n",
    "\n",
    "    if invoice is not None and total is not None:\n",
    "        if invoice in all_invoices:\n",
    "            invoice_dict[invoice] = total\n",
    "        else:\n",
    "            # print(f'invoice detected {invoice} but not found in all_invoices')\n",
    "            detected_but_not_found.append(invoice)"
   ]
  },
  {
   "cell_type": "code",
   "execution_count": null,
   "metadata": {},
   "outputs": [],
   "source": [
    "detected_but_not_found[:10]"
   ]
  },
  {
   "cell_type": "code",
   "execution_count": null,
   "metadata": {},
   "outputs": [],
   "source": [
    "all_totals = [total for total in invoice_dict.values() if total is not None]\n",
    "avg = sum(all_totals) / len(all_totals)\n",
    "avg = round(avg, 2)\n",
    "avg = 10341.62\n",
    "len(all_totals), len(all_totals) / len(samples), avg"
   ]
  },
  {
   "cell_type": "code",
   "execution_count": null,
   "metadata": {},
   "outputs": [],
   "source": [
    "# write csv\n",
    "with open(\"submission.csv\", 'w') as f:\n",
    "    f.write('Invoice Number,Total Charged\\n')\n",
    "    for invoice, total in invoice_dict.items():\n",
    "\n",
    "        if total == None:\n",
    "            total = avg\n",
    "\n",
    "        f.write(f'{invoice},{total}\\n')"
   ]
  }
 ],
 "metadata": {
  "kernelspec": {
   "display_name": "ParaiSUR-FY4onnAP",
   "language": "python",
   "name": "python3"
  },
  "language_info": {
   "codemirror_mode": {
    "name": "ipython",
    "version": 3
   },
   "file_extension": ".py",
   "mimetype": "text/x-python",
   "name": "python",
   "nbconvert_exporter": "python",
   "pygments_lexer": "ipython3",
   "version": "3.10.6"
  },
  "orig_nbformat": 4
 },
 "nbformat": 4,
 "nbformat_minor": 2
}
