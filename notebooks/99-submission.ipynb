{
 "cells": [
  {
   "cell_type": "code",
   "execution_count": 1,
   "metadata": {},
   "outputs": [],
   "source": [
    "import sys\n",
    "sys.path.append('..')"
   ]
  },
  {
   "cell_type": "code",
   "execution_count": 2,
   "metadata": {},
   "outputs": [],
   "source": [
    "from tqdm import tqdm\n",
    "\n",
    "from lib.data import load_all_invoices, load_extracted_samples\n",
    "from lib.details_ocr import (extract_lines_ocr, filter_detail_lines,\n",
    "                             split_detail_line)\n",
    "from lib.details_text import extract_details_from_text\n",
    "from lib.invoice import find_invoice_cached\n",
    "from lib.line_classification import is_professional\n",
    "from lib.ocr import get_ocrs"
   ]
  },
  {
   "cell_type": "code",
   "execution_count": 3,
   "metadata": {},
   "outputs": [
    {
     "data": {
      "text/plain": [
       "8411"
      ]
     },
     "execution_count": 3,
     "metadata": {},
     "output_type": "execute_result"
    }
   ],
   "source": [
    "all_invoices = load_all_invoices()\n",
    "len(all_invoices)"
   ]
  },
  {
   "cell_type": "code",
   "execution_count": 4,
   "metadata": {},
   "outputs": [
    {
     "data": {
      "text/plain": [
       "8411"
      ]
     },
     "execution_count": 4,
     "metadata": {},
     "output_type": "execute_result"
    }
   ],
   "source": [
    "# load samples\n",
    "samples = load_extracted_samples()\n",
    "len(samples)"
   ]
  },
  {
   "cell_type": "code",
   "execution_count": 5,
   "metadata": {},
   "outputs": [
    {
     "name": "stderr",
     "output_type": "stream",
     "text": [
      "100%|██████████| 8411/8411 [11:16<00:00, 12.43it/s]  \n"
     ]
    }
   ],
   "source": [
    "invoice_dict = {}\n",
    "for invoice in all_invoices:\n",
    "    invoice_dict[invoice] = None\n",
    "\n",
    "for sample in tqdm(samples):\n",
    "    filename = sample[\"filename\"][:-4] # .pdf\n",
    "    \n",
    "    invoice = find_invoice_cached(sample)\n",
    "    detail_lines = []\n",
    "    \n",
    "    if sample[\"text\"] != \"\":\n",
    "        detail_lines = extract_details_from_text(sample[\"text\"])\n",
    "    else:\n",
    "        ocrs = get_ocrs(sample)\n",
    "        if \"paddleocr_deskew\" in ocrs:\n",
    "            all_lines = []\n",
    "            for ocr_page in ocrs[\"paddleocr_deskew\"]:\n",
    "                all_lines = all_lines + extract_lines_ocr(ocr_page[\"boxes\"])\n",
    "\n",
    "            num_none = 0\n",
    "            num_not_none = 0\n",
    "\n",
    "            for line in filter_detail_lines(all_lines):\n",
    "                if line is not None:\n",
    "                    num_not_none += 1\n",
    "                    detail_lines.append(split_detail_line(line))\n",
    "                else:\n",
    "                    num_none += 1\n",
    "\n",
    "            if num_none / (num_none + num_not_none) > 0.3:\n",
    "                detail_lines = []\n",
    "\n",
    "    total = 0\n",
    "    for line in detail_lines:\n",
    "        if line is not None:\n",
    "            if is_professional(line[\"desc\"]):\n",
    "                total += line[\"total\"]\n",
    "\n",
    "    if total == 0:\n",
    "        total = None\n",
    "\n",
    "    if invoice is not None and total is not None:\n",
    "        invoice_dict[invoice] = total"
   ]
  },
  {
   "cell_type": "code",
   "execution_count": 6,
   "metadata": {},
   "outputs": [
    {
     "data": {
      "text/plain": [
       "(5249, 0.6240637260729996, 11013.37)"
      ]
     },
     "execution_count": 6,
     "metadata": {},
     "output_type": "execute_result"
    }
   ],
   "source": [
    "all_totals = [total for total in invoice_dict.values() if total is not None]\n",
    "avg = sum(all_totals) / len(all_totals)\n",
    "avg = round(avg, 2)\n",
    "len(all_totals), len(all_totals) / len(samples), avg"
   ]
  },
  {
   "cell_type": "code",
   "execution_count": 9,
   "metadata": {},
   "outputs": [],
   "source": [
    "# write csv\n",
    "with open(\"submission.csv\", 'w') as f:\n",
    "    f.write('Invoice Number,Total Charged\\n')\n",
    "    for invoice, total in invoice_dict.items():\n",
    "\n",
    "        if total == None:\n",
    "            total = 9783.46 # avg\n",
    "\n",
    "        f.write(f'{invoice},{total}\\n')"
   ]
  }
 ],
 "metadata": {
  "kernelspec": {
   "display_name": "ParaiSUR-FY4onnAP",
   "language": "python",
   "name": "python3"
  },
  "language_info": {
   "codemirror_mode": {
    "name": "ipython",
    "version": 3
   },
   "file_extension": ".py",
   "mimetype": "text/x-python",
   "name": "python",
   "nbconvert_exporter": "python",
   "pygments_lexer": "ipython3",
   "version": "3.10.6"
  },
  "orig_nbformat": 4
 },
 "nbformat": 4,
 "nbformat_minor": 2
}
