{
 "cells": [
  {
   "cell_type": "code",
   "execution_count": 1,
   "metadata": {},
   "outputs": [],
   "source": [
    "import sys\n",
    "sys.path.append('..')"
   ]
  },
  {
   "cell_type": "code",
   "execution_count": 2,
   "metadata": {},
   "outputs": [],
   "source": [
    "from tqdm import tqdm\n",
    "\n",
    "from lib.data import load_all_invoices, load_extracted_samples\n",
    "from lib.details import extract_details_from_text, find_professional_total\n",
    "from lib.invoice import find_invoice_cached"
   ]
  },
  {
   "cell_type": "code",
   "execution_count": 3,
   "metadata": {},
   "outputs": [
    {
     "data": {
      "text/plain": [
       "8411"
      ]
     },
     "execution_count": 3,
     "metadata": {},
     "output_type": "execute_result"
    }
   ],
   "source": [
    "all_invoices = load_all_invoices()\n",
    "len(all_invoices)"
   ]
  },
  {
   "cell_type": "code",
   "execution_count": 4,
   "metadata": {},
   "outputs": [
    {
     "data": {
      "text/plain": [
       "8411"
      ]
     },
     "execution_count": 4,
     "metadata": {},
     "output_type": "execute_result"
    }
   ],
   "source": [
    "# load samples\n",
    "samples = [sample for sample in load_extracted_samples()]\n",
    "len(samples)"
   ]
  },
  {
   "cell_type": "code",
   "execution_count": 5,
   "metadata": {},
   "outputs": [
    {
     "name": "stderr",
     "output_type": "stream",
     "text": [
      "100%|██████████| 8411/8411 [02:21<00:00, 59.39it/s] \n"
     ]
    }
   ],
   "source": [
    "\n",
    "invoice_dict = {}\n",
    "for invoice in all_invoices:\n",
    "    invoice_dict[invoice] = None\n",
    "\n",
    "for sample in tqdm(samples):\n",
    "    filename = sample[\"filename\"][:-4] # .pdf\n",
    "    \n",
    "    # text = sample[\"text\"]\n",
    "    # if text == \"\":\n",
    "    #     text = ocr_sample(sample, params, only_cache=True)\n",
    "    \n",
    "    invoice = find_invoice_cached(sample)\n",
    "\n",
    "    total = None\n",
    "    if sample[\"text\"] != \"\":\n",
    "        lines = extract_details_from_text(sample[\"text\"])\n",
    "        total = find_professional_total(lines)\n",
    "\n",
    "    if invoice is not None and total is not None:\n",
    "        invoice_dict[invoice] = total"
   ]
  },
  {
   "cell_type": "code",
   "execution_count": 6,
   "metadata": {},
   "outputs": [
    {
     "data": {
      "text/plain": [
       "(2117, 0.2516942099631435, 11747.75)"
      ]
     },
     "execution_count": 6,
     "metadata": {},
     "output_type": "execute_result"
    }
   ],
   "source": [
    "all_totals = [total for total in invoice_dict.values() if total is not None]\n",
    "avg = sum(all_totals) / len(all_totals)\n",
    "avg = round(avg, 2)\n",
    "len(all_totals), len(all_totals) / len(samples), avg"
   ]
  },
  {
   "cell_type": "code",
   "execution_count": 7,
   "metadata": {},
   "outputs": [],
   "source": [
    "# write csv\n",
    "with open(\"submission.csv\", 'w') as f:\n",
    "    f.write('Invoice Number,Total Charged\\n')\n",
    "    for invoice, total in invoice_dict.items():\n",
    "\n",
    "        if total == None:\n",
    "            total = avg\n",
    "\n",
    "        f.write(f'{invoice},{total}\\n')"
   ]
  }
 ],
 "metadata": {
  "kernelspec": {
   "display_name": "ParaiSUR-FY4onnAP",
   "language": "python",
   "name": "python3"
  },
  "language_info": {
   "codemirror_mode": {
    "name": "ipython",
    "version": 3
   },
   "file_extension": ".py",
   "mimetype": "text/x-python",
   "name": "python",
   "nbconvert_exporter": "python",
   "pygments_lexer": "ipython3",
   "version": "3.10.6"
  },
  "orig_nbformat": 4
 },
 "nbformat": 4,
 "nbformat_minor": 2
}
