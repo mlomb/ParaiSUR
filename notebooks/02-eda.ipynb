{
 "cells": [
  {
   "cell_type": "code",
   "execution_count": 1,
   "metadata": {},
   "outputs": [],
   "source": [
    "import sys\n",
    "sys.path.append('..')"
   ]
  },
  {
   "cell_type": "code",
   "execution_count": 2,
   "metadata": {},
   "outputs": [],
   "source": [
    "import matplotlib.pyplot as plt\n",
    "import seaborn as sns\n",
    "import pandas as pd\n",
    "\n",
    "from lib.data import load_extracted_samples"
   ]
  },
  {
   "cell_type": "code",
   "execution_count": 7,
   "metadata": {},
   "outputs": [
    {
     "data": {
      "text/html": [
       "<div>\n",
       "<style scoped>\n",
       "    .dataframe tbody tr th:only-of-type {\n",
       "        vertical-align: middle;\n",
       "    }\n",
       "\n",
       "    .dataframe tbody tr th {\n",
       "        vertical-align: top;\n",
       "    }\n",
       "\n",
       "    .dataframe thead th {\n",
       "        text-align: right;\n",
       "    }\n",
       "</style>\n",
       "<table border=\"1\" class=\"dataframe\">\n",
       "  <thead>\n",
       "    <tr style=\"text-align: right;\">\n",
       "      <th></th>\n",
       "      <th>filename</th>\n",
       "      <th>size</th>\n",
       "      <th>pages</th>\n",
       "      <th>text</th>\n",
       "      <th>images</th>\n",
       "      <th>has_text</th>\n",
       "    </tr>\n",
       "  </thead>\n",
       "  <tbody>\n",
       "    <tr>\n",
       "      <th>0</th>\n",
       "      <td>102819958.pdf</td>\n",
       "      <td>54567</td>\n",
       "      <td>2</td>\n",
       "      <td>Invoice num.: 102819958\\nInvoice issued: Oct 9...</td>\n",
       "      <td>[]</td>\n",
       "      <td>True</td>\n",
       "    </tr>\n",
       "    <tr>\n",
       "      <th>1</th>\n",
       "      <td>105002622.pdf</td>\n",
       "      <td>46078</td>\n",
       "      <td>2</td>\n",
       "      <td>Inv.: 105002622\\n: Nov 4, 2022\\nCollins, Orteg...</td>\n",
       "      <td>[]</td>\n",
       "      <td>True</td>\n",
       "    </tr>\n",
       "    <tr>\n",
       "      <th>2</th>\n",
       "      <td>10726698.pdf</td>\n",
       "      <td>1879573</td>\n",
       "      <td>2</td>\n",
       "      <td></td>\n",
       "      <td>[/mnt/c/Users/mlomb/Desktop/ParaiSUR/data-extr...</td>\n",
       "      <td>False</td>\n",
       "    </tr>\n",
       "    <tr>\n",
       "      <th>3</th>\n",
       "      <td>108017661.pdf</td>\n",
       "      <td>1957491</td>\n",
       "      <td>2</td>\n",
       "      <td></td>\n",
       "      <td>[/mnt/c/Users/mlomb/Desktop/ParaiSUR/data-extr...</td>\n",
       "      <td>False</td>\n",
       "    </tr>\n",
       "    <tr>\n",
       "      <th>4</th>\n",
       "      <td>108558649.pdf</td>\n",
       "      <td>204688</td>\n",
       "      <td>2</td>\n",
       "      <td></td>\n",
       "      <td>[/mnt/c/Users/mlomb/Desktop/ParaiSUR/data-extr...</td>\n",
       "      <td>False</td>\n",
       "    </tr>\n",
       "    <tr>\n",
       "      <th>...</th>\n",
       "      <td>...</td>\n",
       "      <td>...</td>\n",
       "      <td>...</td>\n",
       "      <td>...</td>\n",
       "      <td>...</td>\n",
       "      <td>...</td>\n",
       "    </tr>\n",
       "    <tr>\n",
       "      <th>102</th>\n",
       "      <td>2021-01-20_1816.pdf</td>\n",
       "      <td>52829</td>\n",
       "      <td>2</td>\n",
       "      <td>Inv.: 435414097\\nDue Date: Jan 20, 2021\\nMejia...</td>\n",
       "      <td>[/mnt/c/Users/mlomb/Desktop/ParaiSUR/data-extr...</td>\n",
       "      <td>True</td>\n",
       "    </tr>\n",
       "    <tr>\n",
       "      <th>103</th>\n",
       "      <td>2021-01-20_3014.pdf</td>\n",
       "      <td>47179</td>\n",
       "      <td>2</td>\n",
       "      <td>Invoice #: 679053956\\nRecord date: Jan 20, 202...</td>\n",
       "      <td>[]</td>\n",
       "      <td>True</td>\n",
       "    </tr>\n",
       "    <tr>\n",
       "      <th>104</th>\n",
       "      <td>2021-01-20_689.pdf</td>\n",
       "      <td>1938905</td>\n",
       "      <td>2</td>\n",
       "      <td></td>\n",
       "      <td>[/mnt/c/Users/mlomb/Desktop/ParaiSUR/data-extr...</td>\n",
       "      <td>False</td>\n",
       "    </tr>\n",
       "    <tr>\n",
       "      <th>105</th>\n",
       "      <td>2021-01-21_1021.pdf</td>\n",
       "      <td>47661</td>\n",
       "      <td>2</td>\n",
       "      <td>Record date: Jan 21, 2021\\n: D44139084\\nAdams-...</td>\n",
       "      <td>[]</td>\n",
       "      <td>True</td>\n",
       "    </tr>\n",
       "    <tr>\n",
       "      <th>106</th>\n",
       "      <td>2021-01-21_2161.pdf</td>\n",
       "      <td>133617</td>\n",
       "      <td>1</td>\n",
       "      <td></td>\n",
       "      <td>[/mnt/c/Users/mlomb/Desktop/ParaiSUR/data-extr...</td>\n",
       "      <td>False</td>\n",
       "    </tr>\n",
       "  </tbody>\n",
       "</table>\n",
       "<p>107 rows × 6 columns</p>\n",
       "</div>"
      ],
      "text/plain": [
       "                filename     size  pages  \\\n",
       "0          102819958.pdf    54567      2   \n",
       "1          105002622.pdf    46078      2   \n",
       "2           10726698.pdf  1879573      2   \n",
       "3          108017661.pdf  1957491      2   \n",
       "4          108558649.pdf   204688      2   \n",
       "..                   ...      ...    ...   \n",
       "102  2021-01-20_1816.pdf    52829      2   \n",
       "103  2021-01-20_3014.pdf    47179      2   \n",
       "104   2021-01-20_689.pdf  1938905      2   \n",
       "105  2021-01-21_1021.pdf    47661      2   \n",
       "106  2021-01-21_2161.pdf   133617      1   \n",
       "\n",
       "                                                  text  \\\n",
       "0    Invoice num.: 102819958\\nInvoice issued: Oct 9...   \n",
       "1    Inv.: 105002622\\n: Nov 4, 2022\\nCollins, Orteg...   \n",
       "2                                                        \n",
       "3                                                        \n",
       "4                                                        \n",
       "..                                                 ...   \n",
       "102  Inv.: 435414097\\nDue Date: Jan 20, 2021\\nMejia...   \n",
       "103  Invoice #: 679053956\\nRecord date: Jan 20, 202...   \n",
       "104                                                      \n",
       "105  Record date: Jan 21, 2021\\n: D44139084\\nAdams-...   \n",
       "106                                                      \n",
       "\n",
       "                                                images  has_text  \n",
       "0                                                   []      True  \n",
       "1                                                   []      True  \n",
       "2    [/mnt/c/Users/mlomb/Desktop/ParaiSUR/data-extr...     False  \n",
       "3    [/mnt/c/Users/mlomb/Desktop/ParaiSUR/data-extr...     False  \n",
       "4    [/mnt/c/Users/mlomb/Desktop/ParaiSUR/data-extr...     False  \n",
       "..                                                 ...       ...  \n",
       "102  [/mnt/c/Users/mlomb/Desktop/ParaiSUR/data-extr...      True  \n",
       "103                                                 []      True  \n",
       "104  [/mnt/c/Users/mlomb/Desktop/ParaiSUR/data-extr...     False  \n",
       "105                                                 []      True  \n",
       "106  [/mnt/c/Users/mlomb/Desktop/ParaiSUR/data-extr...     False  \n",
       "\n",
       "[107 rows x 6 columns]"
      ]
     },
     "execution_count": 7,
     "metadata": {},
     "output_type": "execute_result"
    }
   ],
   "source": [
    "df = pd.json_normalize(load_extracted_samples())\n",
    "df[\"has_text\"] = df[\"text\"].apply(lambda x: len(x) > 0)\n",
    "df"
   ]
  },
  {
   "cell_type": "code",
   "execution_count": 8,
   "metadata": {},
   "outputs": [
    {
     "data": {
      "text/plain": [
       "<Axes: xlabel='size', ylabel='Count'>"
      ]
     },
     "execution_count": 8,
     "metadata": {},
     "output_type": "execute_result"
    },
    {
     "data": {
      "image/png": "[encoded data removed]",
      "text/plain": [
       "<Figure size 640x480 with 1 Axes>"
      ]
     },
     "metadata": {},
     "output_type": "display_data"
    }
   ],
   "source": [
    "sns.histplot(df, x=\"size\", hue=\"has_text\", multiple=\"stack\", bins=100)"
   ]
  },
  {
   "cell_type": "code",
   "execution_count": 9,
   "metadata": {},
   "outputs": [
    {
     "data": {
      "text/plain": [
       "<Axes: >"
      ]
     },
     "execution_count": 9,
     "metadata": {},
     "output_type": "execute_result"
    },
    {
     "data": {
      "image/png": "[encoded data removed]",
      "text/plain": [
       "<Figure size 1000x500 with 2 Axes>"
      ]
     },
     "metadata": {},
     "output_type": "display_data"
    }
   ],
   "source": [
    "fig, ax = plt.subplots(1, 2, figsize=(10, 5))\n",
    "\n",
    "df.groupby(\"has_text\").size().plot.pie(ax=ax[0], autopct=\"%.2f\", labels=[\"Sin texto\", \"Con texto\"])\n",
    "df.groupby(\"pages\").size().plot.pie(ax=ax[1], autopct=\"%.2f\", labels=[\"1 hoja\", \"2 hojas\"])"
   ]
  },
  {
   "cell_type": "code",
   "execution_count": 11,
   "metadata": {},
   "outputs": [
    {
     "name": "stdout",
     "output_type": "stream",
     "text": [
      "filename                                  2021-01-21_2161.pdf\n",
      "size                                                   133617\n",
      "pages                                                       1\n",
      "text                                                         \n",
      "images      [/mnt/c/Users/mlomb/Desktop/ParaiSUR/data-extr...\n",
      "has_text                                                False\n",
      "Name: 106, dtype: object\n"
     ]
    }
   ],
   "source": [
    "# row of lowest size without text\n",
    "print(df[(df[\"has_text\"] == False) & (df[\"pages\"] == 1)].sort_values(by=\"size\").iloc[0])"
   ]
  }
 ],
 "metadata": {
  "kernelspec": {
   "display_name": "ParaiSUR-FY4onnAP",
   "language": "python",
   "name": "python3"
  },
  "language_info": {
   "codemirror_mode": {
    "name": "ipython",
    "version": 3
   },
   "file_extension": ".py",
   "mimetype": "text/x-python",
   "name": "python",
   "nbconvert_exporter": "python",
   "pygments_lexer": "ipython3",
   "version": "3.10.6"
  },
  "orig_nbformat": 4
 },
 "nbformat": 4,
 "nbformat_minor": 2
}
