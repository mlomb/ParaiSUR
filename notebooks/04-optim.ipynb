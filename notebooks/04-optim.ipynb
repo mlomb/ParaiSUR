{
 "cells": [
  {
   "cell_type": "code",
   "execution_count": 1,
   "metadata": {},
   "outputs": [],
   "source": [
    "import sys\n",
    "sys.path.append('..')"
   ]
  },
  {
   "cell_type": "code",
   "execution_count": 2,
   "metadata": {},
   "outputs": [],
   "source": [
    "import json\n",
    "\n",
    "import pandas as pd\n",
    "import pyocr\n",
    "import pyocr.builders\n",
    "import pytesseract\n",
    "from PIL import Image\n",
    "from tqdm import tqdm\n",
    "\n",
    "from lib.data import load_all_invoices, load_extracted_samples\n",
    "from lib.ocr import ImagePreprocessParams, ocr_images\n",
    "from lib.text import extract_invoice"
   ]
  },
  {
   "cell_type": "code",
   "execution_count": 3,
   "metadata": {},
   "outputs": [
    {
     "data": {
      "text/plain": [
       "8411"
      ]
     },
     "execution_count": 3,
     "metadata": {},
     "output_type": "execute_result"
    }
   ],
   "source": [
    "all_invoices = load_all_invoices()\n",
    "len(all_invoices)"
   ]
  },
  {
   "cell_type": "code",
   "execution_count": 4,
   "metadata": {},
   "outputs": [],
   "source": [
    "samples = load_extracted_samples()\n",
    "samples = [s for s in samples if len(s[\"text\"]) == 0]"
   ]
  },
  {
   "cell_type": "code",
   "execution_count": 5,
   "metadata": {},
   "outputs": [],
   "source": [
    "def run_evaluation(params):\n",
    "    stats = {\n",
    "        \"detected_correctly\": 0,\n",
    "        \"detected_incorrectly\": 0,\n",
    "        \"detected_incorrectly_but_correct_in_text\": 0,\n",
    "        \"not_detected\": 0,\n",
    "        \"not_detected_but_in_text\": 0,\n",
    "    }\n",
    "    not_detect_but_present_texts = []\n",
    "\n",
    "    for sample in tqdm(samples):\n",
    "        text = ocr_images(sample[\"images\"], params)\n",
    "        sample_filename = sample[\"filename\"][:-4] # .pdf\n",
    "        \n",
    "        invoice = extract_invoice(text)\n",
    "\n",
    "        def add_to_present_texts(prefix):\n",
    "            pos = text.find(sample_filename)\n",
    "            not_detect_but_present_texts.append(prefix + \"|||\" + sample_filename + \"|||\" + text[max(0, pos - 20):min(len(text), pos + 20)])\n",
    "\n",
    "        if invoice is not None:\n",
    "            # the invoice was detected\n",
    "\n",
    "            # does it exist in the dataset?\n",
    "            if invoice in all_invoices:\n",
    "                stats[\"detected_correctly\"] += 1\n",
    "            elif sample_filename in text:\n",
    "                stats[\"detected_incorrectly_but_correct_in_text\"] += 1\n",
    "                add_to_present_texts(\"wrong match (\" + invoice + \")\")\n",
    "            else:\n",
    "                stats[\"detected_incorrectly\"] += 1\n",
    "        else:\n",
    "            # the invoice is not in the text\n",
    "\n",
    "            if sample_filename in text:\n",
    "                stats[\"not_detected_but_in_text\"] += 1\n",
    "                add_to_present_texts(\"no match\")\n",
    "            else:\n",
    "                stats[\"not_detected\"] += 1\n",
    "    \n",
    "    return stats, not_detect_but_present_texts"
   ]
  },
  {
   "cell_type": "code",
   "execution_count": 6,
   "metadata": {},
   "outputs": [
    {
     "name": "stderr",
     "output_type": "stream",
     "text": [
      " 12%|█▏        | 9/78 [00:06<00:48,  1.44it/s]"
     ]
    }
   ],
   "source": [
    "runs = []\n",
    "\n",
    "for thr in [100, 130, 160, 180, 200]:\n",
    "    params = ImagePreprocessParams(\n",
    "        threshold_value=thr,\n",
    "    )\n",
    "    stats, not_detect_but_present_texts = run_evaluation(params)\n",
    "\n",
    "    runs.append(stats | {\n",
    "        \"threshold_value\": params.threshold_value,\n",
    "    })\n",
    "\n",
    "    with open(\"results.json\", \"w\") as f:\n",
    "        json.dump(runs, f, indent=2)"
   ]
  }
 ],
 "metadata": {
  "kernelspec": {
   "display_name": "ParaiSUR-FY4onnAP",
   "language": "python",
   "name": "python3"
  },
  "language_info": {
   "codemirror_mode": {
    "name": "ipython",
    "version": 3
   },
   "file_extension": ".py",
   "mimetype": "text/x-python",
   "name": "python",
   "nbconvert_exporter": "python",
   "pygments_lexer": "ipython3",
   "version": "3.10.6"
  },
  "orig_nbformat": 4
 },
 "nbformat": 4,
 "nbformat_minor": 2
}
