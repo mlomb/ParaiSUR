{
 "cells": [
  {
   "cell_type": "code",
   "execution_count": 1,
   "metadata": {},
   "outputs": [],
   "source": [
    "import sys\n",
    "sys.path.append('..')"
   ]
  },
  {
   "cell_type": "code",
   "execution_count": 2,
   "metadata": {},
   "outputs": [],
   "source": [
    "import cv2\n",
    "from matplotlib import pyplot as plt\n",
    "from tqdm import tqdm\n",
    "\n",
    "from lib.data import load_extracted_samples\n",
    "from lib.ocr import OCRParams, get_ocrs, run_ocr_sample"
   ]
  },
  {
   "cell_type": "code",
   "execution_count": 3,
   "metadata": {},
   "outputs": [],
   "source": [
    "samples = load_extracted_samples()\n",
    "samples = [s for s in samples if len(s[\"text\"]) == 0]"
   ]
  },
  {
   "cell_type": "code",
   "execution_count": 4,
   "metadata": {},
   "outputs": [
    {
     "name": "stderr",
     "output_type": "stream",
     "text": [
      "  0%|          | 0/6294 [00:00<?, ?it/s]"
     ]
    },
    {
     "name": "stdout",
     "output_type": "stream",
     "text": [
      "Initializing PaddleOCR instance...\n"
     ]
    },
    {
     "name": "stderr",
     "output_type": "stream",
     "text": [
      "  7%|▋         | 425/6294 [1:29:41<18:32:12, 11.37s/it]"
     ]
    }
   ],
   "source": [
    "params = [\n",
    "    OCRParams(engine=\"paddleocr\", deskew=True),\n",
    "\n",
    "    # raw\n",
    "    #OCRParams(engine=\"paddleocr\"),\n",
    "    #OCRParams(engine=\"easyocr\"),\n",
    "    #OCRParams(engine=\"tesseract\"),\n",
    "\n",
    "    ## threshold\n",
    "    #OCRParams(engine=\"tesseract\", grayscale=True, threshold=150),\n",
    "    #OCRParams(engine=\"tesseract\", grayscale=True, threshold=170),\n",
    "    #OCRParams(engine=\"tesseract\", grayscale=True, threshold=190),\n",
    "    #OCRParams(engine=\"tesseract\", grayscale=True, threshold=210),\n",
    "    #\n",
    "    #OCRParams(engine=\"easyocr\", grayscale=True, threshold=240),\n",
    "]\n",
    "\n",
    "for sample in tqdm(samples):\n",
    "    for param in params:\n",
    "        run_ocr_sample(sample, param)"
   ]
  },
  {
   "attachments": {},
   "cell_type": "markdown",
   "metadata": {},
   "source": [
    "Mostar y verificar"
   ]
  },
  {
   "cell_type": "code",
   "execution_count": null,
   "metadata": {},
   "outputs": [],
   "source": [
    "sample = samples[1]\n",
    "page = 0\n",
    "image_path = sample[\"images\"][page]\n",
    "ocrs = get_ocrs(sample)\n",
    "\n",
    "if ocrs is not None:\n",
    "    for engine, pages in ocrs.items():\n",
    "        ocr = pages[page][\"boxes\"]\n",
    "\n",
    "        image = cv2.imread(image_path)\n",
    "\n",
    "        for item in ocr:\n",
    "            box = item[\"bounds\"]\n",
    "            cv2.rectangle(image, box[0], box[2], (0, 255, 0), 2)\n",
    "\n",
    "        cv2.imwrite(f\"../sample_ocr/{engine}.png\", image)\n",
    "        \n",
    "        plt.figure()\n",
    "        plt.title(f\"{engine}\")\n",
    "        plt.axis(\"off\")\n",
    "        plt.imshow(image[:,:,::-1])\n"
   ]
  }
 ],
 "metadata": {
  "kernelspec": {
   "display_name": "ParaiSUR-FY4onnAP",
   "language": "python",
   "name": "python3"
  },
  "language_info": {
   "codemirror_mode": {
    "name": "ipython",
    "version": 3
   },
   "file_extension": ".py",
   "mimetype": "text/x-python",
   "name": "python",
   "nbconvert_exporter": "python",
   "pygments_lexer": "ipython3",
   "version": "3.10.6"
  },
  "orig_nbformat": 4
 },
 "nbformat": 4,
 "nbformat_minor": 2
}
