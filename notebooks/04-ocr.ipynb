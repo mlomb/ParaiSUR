{
 "cells": [
  {
   "cell_type": "code",
   "execution_count": 1,
   "metadata": {},
   "outputs": [],
   "source": [
    "import sys\n",
    "sys.path.append('..')"
   ]
  },
  {
   "cell_type": "code",
   "execution_count": 2,
   "metadata": {},
   "outputs": [],
   "source": [
    "from tqdm import tqdm\n",
    "\n",
    "from lib.data import load_extracted_samples\n",
    "from lib.ocr import ocr_sample, OCRParams"
   ]
  },
  {
   "cell_type": "code",
   "execution_count": null,
   "metadata": {},
   "outputs": [],
   "source": [
    "samples = load_extracted_samples()\n",
    "samples = [s for s in samples if len(s[\"text\"]) == 0]"
   ]
  },
  {
   "cell_type": "code",
   "execution_count": null,
   "metadata": {},
   "outputs": [],
   "source": [
    "params = [\n",
    "    # raw\n",
    "    OCRParams(\"easyocr\", grayscale=False, threshold=None),\n",
    "    OCRParams(\"tesseract\", grayscale=False, threshold=None),\n",
    "\n",
    "    # threshold\n",
    "    OCRParams(\"tesseract\", grayscale=True, threshold=140),\n",
    "    OCRParams(\"tesseract\", grayscale=True, threshold=150),\n",
    "    OCRParams(\"tesseract\", grayscale=True, threshold=160),\n",
    "    OCRParams(\"tesseract\", grayscale=True, threshold=170),\n",
    "]\n",
    "\n",
    "for param in tqdm(params):\n",
    "    for sample in tqdm(samples, leave=False):\n",
    "        ocr_sample(sample, param)"
   ]
  }
 ],
 "metadata": {
  "kernelspec": {
   "display_name": "ParaiSUR-FY4onnAP",
   "language": "python",
   "name": "python3"
  },
  "language_info": {
   "codemirror_mode": {
    "name": "ipython",
    "version": 3
   },
   "file_extension": ".py",
   "mimetype": "text/x-python",
   "name": "python",
   "nbconvert_exporter": "python",
   "pygments_lexer": "ipython3",
   "version": "3.10.6"
  },
  "orig_nbformat": 4
 },
 "nbformat": 4,
 "nbformat_minor": 2
}
