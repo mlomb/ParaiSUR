{
 "cells": [
  {
   "cell_type": "code",
   "execution_count": 1,
   "metadata": {},
   "outputs": [],
   "source": [
    "import sys\n",
    "sys.path.append('..')"
   ]
  },
  {
   "cell_type": "code",
   "execution_count": 2,
   "metadata": {},
   "outputs": [],
   "source": [
    "import os\n",
    "from IPython.display import display, clear_output\n",
    "import ipywidgets as widgets\n",
    "from PIL import Image\n",
    "from pathlib import Path\n",
    "import random\n",
    "\n",
    "from lib.data import load_extracted_samples\n",
    "from lib.ocr import OCRParams, ocr_sample\n",
    "from lib.text import extract_total"
   ]
  },
  {
   "cell_type": "code",
   "execution_count": 3,
   "metadata": {},
   "outputs": [],
   "source": [
    "samples = load_extracted_samples()\n",
    "samples = [s for s in samples if len(s[\"text\"]) == 0]\n",
    "random.Random(42).shuffle(samples)\n",
    "\n",
    "skip_files = set()"
   ]
  },
  {
   "cell_type": "code",
   "execution_count": 4,
   "metadata": {
    "scrolled": true
   },
   "outputs": [],
   "source": [
    "OCR_CACHE_PATH = Path(\"../data-ocr\")\n",
    "\n",
    "def find_next():\n",
    "    params = OCRParams(\"easyocr\", grayscale=False, threshold=None)\n",
    "\n",
    "\n",
    "    for sample in samples:\n",
    "        text = ocr_sample(sample, params)\n",
    "        total = extract_total(text)\n",
    "        \n",
    "        if total is not None:\n",
    "            total_file = OCR_CACHE_PATH / sample[\"filename\"] / \"total.txt\"\n",
    "\n",
    "            if total_file.exists():\n",
    "                continue\n",
    "            else:\n",
    "                return total, sample\n",
    "    \n",
    "    return None\n",
    "\n",
    "def report_ok(sample, total):\n",
    "    total_file = OCR_CACHE_PATH / sample[\"filename\"]\n",
    "    os.makedirs(total_file, exist_ok=True)\n",
    "    with open(total_file / \"total.txt\", \"w\") as f:\n",
    "        f.write(str(total) + \"\\n\")\n",
    "    show_next()\n",
    "    \n",
    "def skip(sample):\n",
    "    skip_files.add(sample[\"filename\"])\n",
    "    show_next()\n",
    "\n",
    "def show_next():\n",
    "    clear_output()\n",
    "    total, sample = find_next()\n",
    "    \n",
    "    # image\n",
    "    image_path = sample[\"images\"][-1]\n",
    "    img = widgets.Image(\n",
    "      value=open(image_path, 'rb').read(),\n",
    "      width=800,\n",
    "      height=400,\n",
    "    )\n",
    "    \n",
    "    # ok button\n",
    "    button_ok = widgets.Button(description = 'TOTAL MATCH')\n",
    "    button_ok.on_click(lambda _: report_ok(sample, total))\n",
    "    \n",
    "    # wrong button\n",
    "    button_wrong = widgets.Button(description = 'TOTAL MISMATCH')\n",
    "    button_wrong.on_click(lambda _: skip(sample))\n",
    "    \n",
    "    print(sample[\"filename\"])\n",
    "    print(\"TOTAL: \" + f'{total:,}')\n",
    "    display(button_ok)\n",
    "    display(button_wrong)\n",
    "    display(img)"
   ]
  },
  {
   "cell_type": "code",
   "execution_count": 5,
   "metadata": {
    "scrolled": false
   },
   "outputs": [
    {
     "name": "stdout",
     "output_type": "stream",
     "text": [
      "2023-05-18_1169.pdf\n",
      "TOTAL: 24,651.87\n"
     ]
    },
    {
     "data": {
      "application/vnd.jupyter.widget-view+json": {
       "model_id": "",
       "version_major": 2,
       "version_minor": 0
      },
      "text/plain": [
       "Button(description='TOTAL MATCH', style=ButtonStyle())"
      ]
     },
     "metadata": {},
     "output_type": "display_data"
    },
    {
     "data": {
      "application/vnd.jupyter.widget-view+json": {
       "model_id": "",
       "version_major": 2,
       "version_minor": 0
      },
      "text/plain": [
       "Button(description='TOTAL MISMATCH', style=ButtonStyle())"
      ]
     },
     "metadata": {},
     "output_type": "display_data"
    },
    {
     "data": {
      "application/vnd.jupyter.widget-view+json": {
       "model_id": "",
       "version_major": 2,
       "version_minor": 0
      },
      "text/plain": [
       "Image(value=b'\\x89PNG\\r\\n\\x1a\\n\\x00\\x00\\x00\\rIHDR\\x00\\x00\\x03k\\x00\\x00\\x04l\\x08\\x02\\x00\\x00\\x00\\x8fu\\x99\\xf1\\x…"
      ]
     },
     "metadata": {},
     "output_type": "display_data"
    }
   ],
   "source": [
    "show_next()"
   ]
  }
 ],
 "metadata": {
  "kernelspec": {
   "display_name": "Python 3 (ipykernel)",
   "language": "python",
   "name": "python3"
  },
  "language_info": {
   "codemirror_mode": {
    "name": "ipython",
    "version": 3
   },
   "file_extension": ".py",
   "mimetype": "text/x-python",
   "name": "python",
   "nbconvert_exporter": "python",
   "pygments_lexer": "ipython3",
   "version": "3.10.6"
  }
 },
 "nbformat": 4,
 "nbformat_minor": 2
}
