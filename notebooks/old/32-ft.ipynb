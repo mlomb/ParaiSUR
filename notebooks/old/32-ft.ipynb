{
 "cells": [
  {
   "cell_type": "code",
   "execution_count": 309,
   "metadata": {},
   "outputs": [
    {
     "name": "stdout",
     "output_type": "stream",
     "text": [
      "The autoreload extension is already loaded. To reload it, use:\n",
      "  %reload_ext autoreload\n"
     ]
    }
   ],
   "source": [
    "%load_ext autoreload\n",
    "%autoreload 2"
   ]
  },
  {
   "cell_type": "code",
   "execution_count": 310,
   "metadata": {},
   "outputs": [],
   "source": [
    "import random\n",
    "\n",
    "import fasttext\n",
    "from tqdm import tqdm"
   ]
  },
  {
   "cell_type": "code",
   "execution_count": 311,
   "metadata": {},
   "outputs": [],
   "source": [
    "def preprocess(text):\n",
    "    # lower\n",
    "    text = text.lower()\n",
    "\n",
    "    # replace all non-alphanumeric characters with spaces\n",
    "    chars = [c if c.isalnum() else \" \" for c in text]\n",
    "    text = \" \".join(\n",
    "        # remove empty words\n",
    "        [word for word in \"\".join(chars).split() if len(word) > 0]\n",
    "    )\n",
    "\n",
    "    return text\n",
    "\n",
    "def txts_to_datset(prof_file, non_prof_file, dataset_file):\n",
    "    prof_lines = []\n",
    "    non_prof_lines = []\n",
    "\n",
    "    with open(prof_file) as f:\n",
    "        for line in tqdm(f):\n",
    "            prof_lines.append((preprocess(line), \"professional\"))\n",
    "\n",
    "    with open(non_prof_file) as f:\n",
    "        for line in tqdm(f):\n",
    "            non_prof_lines.append((preprocess(line), \"not_professional\"))\n",
    "\n",
    "    random.Random(42).shuffle(prof_lines)\n",
    "    random.Random(43).shuffle(non_prof_lines)\n",
    "\n",
    "    limit = min(len(prof_lines), len(non_prof_lines))\n",
    "    train_data = prof_lines[:limit] + non_prof_lines[:limit]\n",
    "    random.Random(44).shuffle(train_data)\n",
    "\n",
    "    with open(dataset_file, 'w') as f:\n",
    "        for text, label in train_data:\n",
    "            f.write(f'__label__{label} {text}\\n')"
   ]
  },
  {
   "cell_type": "code",
   "execution_count": 312,
   "metadata": {},
   "outputs": [
    {
     "name": "stderr",
     "output_type": "stream",
     "text": [
      "40401it [00:00, 152995.58it/s]\n",
      "111900it [00:00, 168554.35it/s]\n",
      "419it [00:00, 140010.63it/s]\n",
      "657it [00:00, 123450.31it/s]\n"
     ]
    }
   ],
   "source": [
    "txts_to_datset(\"./professional_lines.txt\", \"./not_professional_lines.txt\", \"./test.txt\")\n",
    "txts_to_datset(\"../tests/professional_lines.txt\", \"../tests/non_professional_lines.txt\", \"./train.txt\")"
   ]
  },
  {
   "cell_type": "code",
   "execution_count": 313,
   "metadata": {},
   "outputs": [
    {
     "name": "stderr",
     "output_type": "stream",
     "text": [
      "Read 0M words\n",
      "Number of words:  966\n",
      "Number of labels: 2\n",
      "Progress: 100.0% words/sec/thread:  521241 lr:  0.000000 avg.loss:  0.157260 ETA:   0h 0m 0s\n"
     ]
    }
   ],
   "source": [
    "model = fasttext.train_supervised('./train.txt', epoch=100, lr=0.01)"
   ]
  },
  {
   "cell_type": "code",
   "execution_count": 318,
   "metadata": {},
   "outputs": [
    {
     "data": {
      "text/plain": [
       "(('__label__not_professional',), array([0.99077946]))"
      ]
     },
     "execution_count": 318,
     "metadata": {},
     "output_type": "execute_result"
    }
   ],
   "source": [
    "model.predict(preprocess(\"cllen ting on 2022-01-22 $98.17\"))"
   ]
  },
  {
   "cell_type": "code",
   "execution_count": 316,
   "metadata": {},
   "outputs": [
    {
     "data": {
      "text/plain": [
       "((838, 0.9952267303102625, 0.9952267303102625),\n",
       " (80802, 0.9633301155911982, 0.9633301155911982))"
      ]
     },
     "execution_count": 316,
     "metadata": {},
     "output_type": "execute_result"
    }
   ],
   "source": [
    "model.test(\"./train.txt\"), model.test(\"./test.txt\")"
   ]
  }
 ],
 "metadata": {
  "kernelspec": {
   "display_name": "ParaiSUR-FY4onnAP",
   "language": "python",
   "name": "python3"
  },
  "language_info": {
   "codemirror_mode": {
    "name": "ipython",
    "version": 3
   },
   "file_extension": ".py",
   "mimetype": "text/x-python",
   "name": "python",
   "nbconvert_exporter": "python",
   "pygments_lexer": "ipython3",
   "version": "3.10.6"
  },
  "orig_nbformat": 4
 },
 "nbformat": 4,
 "nbformat_minor": 2
}
