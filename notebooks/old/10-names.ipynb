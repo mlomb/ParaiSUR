{
 "cells": [
  {
   "cell_type": "code",
   "execution_count": null,
   "metadata": {},
   "outputs": [],
   "source": [
    "# !wget https://github.com/philipperemy/name-dataset/blob/master/names_dataset/v3/first_names.zip?raw=true -O /tmp/first_names.zip\n",
    "# !wget https://github.com/philipperemy/name-dataset/blob/master/names_dataset/v3/first_names.zip?raw=true -O /tmp/last_names.zip"
   ]
  },
  {
   "cell_type": "code",
   "execution_count": null,
   "metadata": {},
   "outputs": [],
   "source": [
    "!wget \"https://raw.githubusercontent.com/smashew/NameDatabases/master/NamesDatabases/first names/us.txt\" -O ../data/first_names.txt\n",
    "!wget \"https://raw.githubusercontent.com/smashew/NameDatabases/master/NamesDatabases/surnames/us.txt\" -O ../data/last_names.txt"
   ]
  }
 ],
 "metadata": {
  "kernelspec": {
   "display_name": "ParaiSUR-FY4onnAP",
   "language": "python",
   "name": "python3"
  },
  "language_info": {
   "codemirror_mode": {
    "name": "ipython",
    "version": 3
   },
   "file_extension": ".py",
   "mimetype": "text/x-python",
   "name": "python",
   "nbconvert_exporter": "python",
   "pygments_lexer": "ipython3",
   "version": "3.10.6"
  },
  "orig_nbformat": 4
 },
 "nbformat": 4,
 "nbformat_minor": 2
}
