{
 "cells": [
  {
   "cell_type": "markdown",
   "metadata": {},
   "source": [
    "Base de datos de nombres en inglés"
   ]
  },
  {
   "cell_type": "code",
   "execution_count": 1,
   "metadata": {},
   "outputs": [
    {
     "name": "stdout",
     "output_type": "stream",
     "text": [
      "--2023-07-11 23:31:22--  https://raw.githubusercontent.com/smashew/NameDatabases/master/NamesDatabases/first%20names/us.txt\n",
      "Resolving raw.githubusercontent.com (raw.githubusercontent.com)... 185.199.109.133, 185.199.108.133, 185.199.111.133, ...\n",
      "Connecting to raw.githubusercontent.com (raw.githubusercontent.com)|185.199.109.133|:443... connected.\n",
      "HTTP request sent, awaiting response... 200 OK\n",
      "Length: 41284 (40K) [text/plain]\n",
      "Saving to: ‘../cache/first_names.txt’\n",
      "\n",
      "../cache/first_name 100%[===================>]  40.32K  --.-KB/s    in 0.006s  \n",
      "\n",
      "2023-07-11 23:31:23 (7.02 MB/s) - ‘../cache/first_names.txt’ saved [41284/41284]\n",
      "\n",
      "--2023-07-11 23:31:23--  https://raw.githubusercontent.com/smashew/NameDatabases/master/NamesDatabases/surnames/us.txt\n",
      "Resolving raw.githubusercontent.com (raw.githubusercontent.com)... 185.199.109.133, 185.199.108.133, 185.199.111.133, ...\n",
      "Connecting to raw.githubusercontent.com (raw.githubusercontent.com)|185.199.109.133|:443... connected.\n",
      "HTTP request sent, awaiting response... 200 OK\n",
      "Length: 695422 (679K) [text/plain]\n",
      "Saving to: ‘../cache/last_names.txt’\n",
      "\n",
      "../cache/last_names 100%[===================>] 679.12K  --.-KB/s    in 0.04s   \n",
      "\n",
      "2023-07-11 23:31:23 (15.1 MB/s) - ‘../cache/last_names.txt’ saved [695422/695422]\n",
      "\n"
     ]
    }
   ],
   "source": [
    "!wget \"https://raw.githubusercontent.com/smashew/NameDatabases/master/NamesDatabases/first names/us.txt\" -O ../cache/first_names.txt\n",
    "!wget \"https://raw.githubusercontent.com/smashew/NameDatabases/master/NamesDatabases/surnames/us.txt\" -O ../cache/last_names.txt"
   ]
  }
 ],
 "metadata": {
  "kernelspec": {
   "display_name": "ParaiSUR-FY4onnAP",
   "language": "python",
   "name": "python3"
  },
  "language_info": {
   "codemirror_mode": {
    "name": "ipython",
    "version": 3
   },
   "file_extension": ".py",
   "mimetype": "text/x-python",
   "name": "python",
   "nbconvert_exporter": "python",
   "pygments_lexer": "ipython3",
   "version": "3.10.6"
  },
  "orig_nbformat": 4
 },
 "nbformat": 4,
 "nbformat_minor": 2
}
