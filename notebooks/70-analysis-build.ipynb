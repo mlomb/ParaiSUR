{
 "cells": [
  {
   "cell_type": "code",
   "execution_count": 6,
   "metadata": {},
   "outputs": [
    {
     "name": "stdout",
     "output_type": "stream",
     "text": [
      "The autoreload extension is already loaded. To reload it, use:\n",
      "  %reload_ext autoreload\n"
     ]
    }
   ],
   "source": [
    "%load_ext autoreload\n",
    "%autoreload 2"
   ]
  },
  {
   "cell_type": "code",
   "execution_count": 7,
   "metadata": {},
   "outputs": [],
   "source": [
    "import sys\n",
    "sys.path.append('..')"
   ]
  },
  {
   "cell_type": "code",
   "execution_count": 8,
   "metadata": {},
   "outputs": [],
   "source": [
    "from tqdm import tqdm\n",
    "import pandas as pd\n",
    "\n",
    "from lib.data import load_extracted_samples\n",
    "from lib.details import find_detail_lines\n",
    "from lib.line_classification import is_professional\n",
    "from lib.date import extract_dates"
   ]
  },
  {
   "cell_type": "code",
   "execution_count": 9,
   "metadata": {},
   "outputs": [
    {
     "data": {
      "text/plain": [
       "8411"
      ]
     },
     "execution_count": 9,
     "metadata": {},
     "output_type": "execute_result"
    }
   ],
   "source": [
    "samples = load_extracted_samples()\n",
    "len(samples)"
   ]
  },
  {
   "cell_type": "code",
   "execution_count": 10,
   "metadata": {},
   "outputs": [
    {
     "name": "stderr",
     "output_type": "stream",
     "text": [
      "100%|██████████| 8411/8411 [03:01<00:00, 46.28it/s]\n"
     ]
    }
   ],
   "source": [
    "results = []\n",
    "\n",
    "for sample in tqdm(samples):\n",
    "    lines = find_detail_lines(sample)\n",
    "\n",
    "    total = 0\n",
    "    for line in lines:\n",
    "        if line is not None:\n",
    "            if is_professional(line[\"desc\"]):\n",
    "                total += line[\"total\"]\n",
    "\n",
    "    if total != 0:\n",
    "        dates = extract_dates(lines)\n",
    "\n",
    "        results.append({\n",
    "            \"filename\": sample[\"filename\"],\n",
    "            \"size\": sample[\"size\"],\n",
    "            \"sample\": sample,\n",
    "            \"total\": total,\n",
    "            \"dates\": dates,\n",
    "            \"median_date\": dates[len(dates) // 2] if len(dates) > 0 else None\n",
    "        })\n",
    "\n",
    "df = pd.DataFrame(results)\n",
    "df.to_pickle(\"../cache/analysis.pkl\")"
   ]
  }
 ],
 "metadata": {
  "kernelspec": {
   "display_name": "ParaiSUR-FY4onnAP",
   "language": "python",
   "name": "python3"
  },
  "language_info": {
   "codemirror_mode": {
    "name": "ipython",
    "version": 3
   },
   "file_extension": ".py",
   "mimetype": "text/x-python",
   "name": "python",
   "nbconvert_exporter": "python",
   "pygments_lexer": "ipython3",
   "version": "3.10.6"
  },
  "orig_nbformat": 4
 },
 "nbformat": 4,
 "nbformat_minor": 2
}
