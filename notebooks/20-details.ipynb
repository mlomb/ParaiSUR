{
 "cells": [
  {
   "cell_type": "code",
   "execution_count": null,
   "metadata": {},
   "outputs": [],
   "source": [
    "import sys\n",
    "sys.path.append('..')"
   ]
  },
  {
   "cell_type": "code",
   "execution_count": null,
   "metadata": {},
   "outputs": [],
   "source": [
    "import random\n",
    "\n",
    "import fasttext\n",
    "from tqdm import tqdm\n",
    "\n",
    "from lib.data import load_extracted_samples\n",
    "from lib.details import extract_details_from_text, find_professional_total"
   ]
  },
  {
   "cell_type": "code",
   "execution_count": null,
   "metadata": {},
   "outputs": [],
   "source": [
    "samples = load_extracted_samples()"
   ]
  },
  {
   "cell_type": "code",
   "execution_count": null,
   "metadata": {},
   "outputs": [],
   "source": [
    "ok = 0\n",
    "total = 0\n",
    "values = []\n",
    "\n",
    "for sample in tqdm(samples):\n",
    "    if len(sample[\"text\"]) == 0:\n",
    "        continue\n",
    "    total += 1\n",
    "    try:\n",
    "        lines = extract_details_from_text(sample['text'])\n",
    "        v = find_professional_total(lines)\n",
    "        if v == 0:\n",
    "            values.append((sample, v))\n",
    "        ok += 1\n",
    "    except Exception as e:\n",
    "        print(e)\n",
    "\n",
    "print(ok, total, ok / total)"
   ]
  },
  {
   "cell_type": "code",
   "execution_count": null,
   "metadata": {},
   "outputs": [],
   "source": [
    "lines=extract_details_from_text(samples[1]['text'])\n",
    "find_professional_total(lines),lines"
   ]
  },
  {
   "cell_type": "code",
   "execution_count": null,
   "metadata": {},
   "outputs": [],
   "source": [
    "values"
   ]
  },
  {
   "cell_type": "code",
   "execution_count": 18,
   "metadata": {},
   "outputs": [
    {
     "name": "stderr",
     "output_type": "stream",
     "text": [
      "100%|██████████| 8411/8411 [01:05<00:00, 128.02it/s]\n"
     ]
    },
    {
     "data": {
      "text/plain": [
       "(1391, 6294, 0.22100413091833493)"
      ]
     },
     "execution_count": 18,
     "metadata": {},
     "output_type": "execute_result"
    }
   ],
   "source": [
    "from lib.ocr import get_ocrs\n",
    "\n",
    "\n",
    "ok = 0\n",
    "count = 0\n",
    "\n",
    "for sample in tqdm(samples):\n",
    "    if len(sample[\"text\"]) > 0:\n",
    "        continue\n",
    "    count += 1\n",
    "    ocrs = get_ocrs(sample)\n",
    "    \n",
    "    total = 0\n",
    "    for ocr in ocrs.values():\n",
    "        try:\n",
    "            lines = extract_details_from_text(ocr[0]['text'])\n",
    "            v = find_professional_total(lines)\n",
    "\n",
    "            if v > total:\n",
    "                total = v\n",
    "        except Exception as e:\n",
    "            pass\n",
    "\n",
    "    if total is not None and total > 0:\n",
    "        ok += 1\n",
    "\n",
    "ok, count, ok / count"
   ]
  }
 ],
 "metadata": {
  "kernelspec": {
   "display_name": "ParaiSUR-FY4onnAP",
   "language": "python",
   "name": "python3"
  },
  "language_info": {
   "codemirror_mode": {
    "name": "ipython",
    "version": 3
   },
   "file_extension": ".py",
   "mimetype": "text/x-python",
   "name": "python",
   "nbconvert_exporter": "python",
   "pygments_lexer": "ipython3",
   "version": "3.10.6"
  },
  "orig_nbformat": 4
 },
 "nbformat": 4,
 "nbformat_minor": 2
}
