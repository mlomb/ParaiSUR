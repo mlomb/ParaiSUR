{
 "cells": [
  {
   "cell_type": "code",
   "execution_count": 1,
   "metadata": {},
   "outputs": [],
   "source": [
    "%load_ext autoreload\n",
    "%autoreload 2"
   ]
  },
  {
   "cell_type": "code",
   "execution_count": 2,
   "metadata": {},
   "outputs": [],
   "source": [
    "import sys\n",
    "sys.path.append('..')"
   ]
  },
  {
   "cell_type": "code",
   "execution_count": 3,
   "metadata": {},
   "outputs": [],
   "source": [
    "from tqdm import tqdm\n",
    "\n",
    "from lib.line_classification import is_professional"
   ]
  },
  {
   "cell_type": "code",
   "execution_count": 4,
   "metadata": {},
   "outputs": [
    {
     "name": "stdout",
     "output_type": "stream",
     "text": [
      "1243\n"
     ]
    }
   ],
   "source": [
    "test_data = [] # (is_professional, line)\n",
    "\n",
    "with open(\"./professional_lines.txt\", \"r\") as f:\n",
    "    test_data = ([(True, line.strip()) for line in f.readlines() if line.strip() != \"\"])\n",
    "\n",
    "with open(\"./non_professional_lines.txt\", \"r\") as f:\n",
    "    test_data += ([(False, line.strip()) for line in f.readlines() if line.strip() != \"\"])\n",
    "\n",
    "print(len(test_data))"
   ]
  },
  {
   "cell_type": "code",
   "execution_count": 5,
   "metadata": {},
   "outputs": [
    {
     "name": "stderr",
     "output_type": "stream",
     "text": [
      "  0%|          | 0/1243 [00:00<?, ?it/s]"
     ]
    },
    {
     "name": "stderr",
     "output_type": "stream",
     "text": [
      "100%|██████████| 1243/1243 [00:06<00:00, 198.90it/s]\n"
     ]
    }
   ],
   "source": [
    "false_positives = []\n",
    "false_negatives = []\n",
    "\n",
    "for prof, line in tqdm(test_data):\n",
    "    if is_professional.__wrapped__(line) != prof:\n",
    "        if prof:\n",
    "            false_negatives.append(line)\n",
    "        else:\n",
    "            false_positives.append(line)\n"
   ]
  },
  {
   "cell_type": "code",
   "execution_count": 6,
   "metadata": {},
   "outputs": [
    {
     "name": "stdout",
     "output_type": "stream",
     "text": [
      "Total: 1243\n",
      "False negatives: 145 (0.12)\n",
      "False positives: 3 (0.00)\n"
     ]
    }
   ],
   "source": [
    "print(f\"Total: {len(test_data)}\")\n",
    "print(f\"False negatives: {len(false_negatives)} ({len(false_negatives) / len(test_data):.2f})\")\n",
    "print(f\"False positives: {len(false_positives)} ({len(false_positives) / len(test_data):.2f})\")"
   ]
  },
  {
   "cell_type": "code",
   "execution_count": 7,
   "metadata": {},
   "outputs": [
    {
     "data": {
      "text/plain": [
       "(['-MelissBrown 13.60 $15.00',\n",
       "  '0-MelissBrown 20 $116.00',\n",
       "  'eisay-MeBrooks 1 $176.34',\n",
       "  'gnez - Auatin Durn $85.04',\n",
       "  'gonald Rbins',\n",
       "  'listrat-ve 0.25 $15.00',\n",
       "  'OJECT CONTR $191.75',\n",
       "  'Pro lanagerIII 0.50 $89.80',\n",
       "  'Tineeered-Danligyan 2 $199.04',\n",
       "  'Tir ered - Maciscn Carson 15 $131.00',\n",
       "  'Tir ered - Maciscn Carson 15 $131.00',\n",
       "  '0',\n",
       "  '0  40 $135.00',\n",
       "  '0  40 $163.00',\n",
       "  '0 $0,00',\n",
       "  '0 $0.0',\n",
       "  '0 $0.00',\n",
       "  '0 -',\n",
       "  '0 - 32 $163.00',\n",
       "  '0 - 40 $163.00',\n",
       "  '0 -Madison  29 $128.38',\n",
       "  '0 -S 40 $163.00',\n",
       "  '0 1.50 $116.00',\n",
       "  '0 1.50 $181.00',\n",
       "  '0 10 $181.00',\n",
       "  '0 12 $131.00',\n",
       "  '0 121.50 $81.60',\n",
       "  '0 13 $170.00',\n",
       "  '0 13 $181.00',\n",
       "  '0 14.02 $200.00',\n",
       "  '0 14.75 $163.00',\n",
       "  '0 14.80 $116.00',\n",
       "  '0 15 $131.00',\n",
       "  '0 15.40 $116.00',\n",
       "  '0 16 $116.00',\n",
       "  '0 16 $131.0',\n",
       "  '0 16 $181.00',\n",
       "  '0 18 $128.38',\n",
       "  '0 18 $131.00',\n",
       "  '0 18.85 $163.00',\n",
       "  '0 19 $131.00',\n",
       "  '0 19.60 $116.00',\n",
       "  '0 20 $116.00',\n",
       "  '0 20 $170.00',\n",
       "  '0 20 $181.00',\n",
       "  '0 20.80 $116.00',\n",
       "  '0 21.50 $163.00',\n",
       "  '0 22 $131.00',\n",
       "  '0 22.25 $181.00',\n",
       "  '0 24 $131.00',\n",
       "  '0 24 $163.00',\n",
       "  '0 25 $128.38',\n",
       "  '0 27 $131.00',\n",
       "  '0 28 $128.38',\n",
       "  '0 29 $163.00',\n",
       "  '0 3 $181.00',\n",
       "  '0 30 $163.00',\n",
       "  '0 30 5128.38',\n",
       "  '0 31.60 $116.00',\n",
       "  '0 32 $163.00',\n",
       "  '0 32 $170.00',\n",
       "  '0 34 $163.00',\n",
       "  '0 38 $163.00',\n",
       "  '0 39.50 $163.00',\n",
       "  '0 40 $135.00',\n",
       "  '0 40 $155.00',\n",
       "  '0 40 $163.00',\n",
       "  '0 40 $170.00',\n",
       "  '0 40 $207.00',\n",
       "  '0 8 $181.00',\n",
       "  '0 S',\n",
       "  '0- 33.75 $163.00',\n",
       "  '0- 6 $135.00',\n",
       "  '0-MelissBrown 20 $116.00',\n",
       "  '0-Robert $81.00',\n",
       "  '0-add.cnsic 1 $181.00',\n",
       "  '0-extr 26 $163.00',\n",
       "  '0-prayect work 40 $163.00',\n",
       "  '0. 21 $181.00',\n",
       "  '0021-040 Shoutarevien Duploab',\n",
       "  '04-3 $4.98',\n",
       "  '0961-05 1 $3.66',\n",
       "  '1 $5,099.05',\n",
       "  '0 - 32 $163.00',\n",
       "  '0 - 40 $163.00',\n",
       "  '0',\n",
       "  '0  40 $135.00',\n",
       "  '0  40 $163.00',\n",
       "  '0 $0,00',\n",
       "  '0 $0.0',\n",
       "  '0 $0.00',\n",
       "  '0 -',\n",
       "  '0 - 32 $163.00',\n",
       "  '0 - 40 $163.00',\n",
       "  '0 -Madison  29 $128.38',\n",
       "  '0 -S 40 $163.00',\n",
       "  '0 1.50 $116.00',\n",
       "  '0 1.50 $181.00',\n",
       "  '0 10 $181.00',\n",
       "  '0 12 $131.00'],\n",
       " ['Admin T $1,392.00', 'AI ees 1 $302.34', 'Cierical -Mak Rios 0.50 $51.71'])"
      ]
     },
     "execution_count": 7,
     "metadata": {},
     "output_type": "execute_result"
    }
   ],
   "source": [
    "false_negatives[:100], false_positives[:10]"
   ]
  },
  {
   "cell_type": "code",
   "execution_count": 8,
   "metadata": {},
   "outputs": [
    {
     "data": {
      "text/plain": [
       "False"
      ]
     },
     "execution_count": 8,
     "metadata": {},
     "output_type": "execute_result"
    }
   ],
   "source": [
    "from lib.line_classification import is_first_name, is_last_name\n",
    "\n",
    "\n",
    "is_professional.__wrapped__('Tir ered - Maciscn Carson 15 $131.00', debug=True)\n",
    "\n",
    "# is_first_name('Charles', score_cutoff=85), is_last_name('Xood', score_cutoff=75)"
   ]
  }
 ],
 "metadata": {
  "kernelspec": {
   "display_name": "ParaiSUR-FY4onnAP",
   "language": "python",
   "name": "python3"
  },
  "language_info": {
   "codemirror_mode": {
    "name": "ipython",
    "version": 3
   },
   "file_extension": ".py",
   "mimetype": "text/x-python",
   "name": "python",
   "nbconvert_exporter": "python",
   "pygments_lexer": "ipython3",
   "version": "3.10.6"
  },
  "orig_nbformat": 4
 },
 "nbformat": 4,
 "nbformat_minor": 2
}
