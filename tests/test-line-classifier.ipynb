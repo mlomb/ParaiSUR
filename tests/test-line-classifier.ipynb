{
 "cells": [
  {
   "cell_type": "code",
   "execution_count": 404,
   "metadata": {},
   "outputs": [
    {
     "name": "stdout",
     "output_type": "stream",
     "text": [
      "The autoreload extension is already loaded. To reload it, use:\n",
      "  %reload_ext autoreload\n"
     ]
    }
   ],
   "source": [
    "%load_ext autoreload\n",
    "%autoreload 2"
   ]
  },
  {
   "cell_type": "code",
   "execution_count": 405,
   "metadata": {},
   "outputs": [],
   "source": [
    "import sys\n",
    "sys.path.append('..')"
   ]
  },
  {
   "cell_type": "code",
   "execution_count": 406,
   "metadata": {},
   "outputs": [],
   "source": [
    "from tqdm import tqdm\n",
    "\n",
    "from lib.line_classification import is_professional"
   ]
  },
  {
   "cell_type": "code",
   "execution_count": 407,
   "metadata": {},
   "outputs": [
    {
     "name": "stdout",
     "output_type": "stream",
     "text": [
      "1082\n"
     ]
    }
   ],
   "source": [
    "test_data = [] # (is_professional, line)\n",
    "\n",
    "with open(\"./professional_lines.txt\", \"r\") as f:\n",
    "    test_data = ([(True, line.strip()) for line in f.readlines() if line.strip() != \"\"])\n",
    "\n",
    "with open(\"./non_professional_lines.txt\", \"r\") as f:\n",
    "    test_data += ([(False, line.strip()) for line in f.readlines() if line.strip() != \"\"])\n",
    "\n",
    "print(len(test_data))"
   ]
  },
  {
   "cell_type": "code",
   "execution_count": 408,
   "metadata": {},
   "outputs": [
    {
     "name": "stderr",
     "output_type": "stream",
     "text": [
      "  3%|▎         | 33/1082 [00:00<00:10, 100.17it/s]"
     ]
    },
    {
     "name": "stderr",
     "output_type": "stream",
     "text": [
      " 26%|██▋       | 286/1082 [00:03<00:08, 90.83it/s] "
     ]
    }
   ],
   "source": [
    "false_positives = []\n",
    "false_negatives = []\n",
    "\n",
    "for prof, line in tqdm(test_data):\n",
    "    if is_professional(line) != prof:\n",
    "        if prof:\n",
    "            false_negatives.append(line)\n",
    "        else:\n",
    "            false_positives.append(line)\n"
   ]
  },
  {
   "cell_type": "code",
   "execution_count": null,
   "metadata": {},
   "outputs": [
    {
     "name": "stdout",
     "output_type": "stream",
     "text": [
      "Total: 1082\n",
      "False negatives: 17 (0.02)\n",
      "False positives: 6 (0.01)\n"
     ]
    }
   ],
   "source": [
    "print(f\"Total: {len(test_data)}\")\n",
    "print(f\"False negatives: {len(false_negatives)} ({len(false_negatives) / len(test_data):.2f})\")\n",
    "print(f\"False positives: {len(false_positives)} ({len(false_positives) / len(test_data):.2f})\")"
   ]
  },
  {
   "cell_type": "code",
   "execution_count": null,
   "metadata": {},
   "outputs": [
    {
     "data": {
      "text/plain": [
       "(['-Ananda Glass 40 $63.00',\n",
       "  '-MelissBrown 13.60 $15.00',\n",
       "  '0-Ananda Wiison 2 $93.00',\n",
       "  '0-Madlaon Carson 25.60 $116.00',\n",
       "  '0-MelissBrown 20 $116.00',\n",
       "  '0-Stt Harris 40 $114.00',\n",
       "  'Alexande: t - Principal 1.20 $420.00',\n",
       "  'Chares Colfins -GIS Specialist 3.50 $5.54',\n",
       "  'Chares Wood -Project Engineer $181.00',\n",
       "  'Jacobson',\n",
       "  'Jacobson 0.25 $5, 67',\n",
       "  'Jacobson 0.25 $5.67',\n",
       "  'Jacobson 0.50 $5.67',\n",
       "  'Jacobson 0.50 $9.07',\n",
       "  'Jacobson 1.50 $9.07',\n",
       "  'Tir ered - Jimny Mclaughlin $39.24',\n",
       "  'Tir ered - Maciscn Carson 15 $131.00'],\n",
       " ['AI ees 1 $302.34',\n",
       "  'Cierical -Mak Rios 0.50 $51.71',\n",
       "  'Cierical -trvi xeekend 0.50 $51.71',\n",
       "  'Indiau tneSo $0.25',\n",
       "  't Plan - Equiprent 1 $2,088.00',\n",
       "  'Acmin I 1 $63.75'])"
      ]
     },
     "execution_count": 401,
     "metadata": {},
     "output_type": "execute_result"
    }
   ],
   "source": [
    "false_negatives[:100], false_positives[:10]"
   ]
  },
  {
   "cell_type": "code",
   "execution_count": null,
   "metadata": {},
   "outputs": [
    {
     "name": "stdout",
     "output_type": "stream",
     "text": [
      "nombre apellido chares wood\n",
      "negative keyword | chares ('charges', 92)\n"
     ]
    },
    {
     "data": {
      "text/plain": [
       "False"
      ]
     },
     "execution_count": 403,
     "metadata": {},
     "output_type": "execute_result"
    }
   ],
   "source": [
    "from lib.line_classification import is_first_name, is_last_name\n",
    "\n",
    "\n",
    "is_professional('Chares Wood -Project Engineer $181.00', debug=True)\n",
    "\n",
    "# is_first_name('Charles', score_cutoff=85), is_last_name('Xood', score_cutoff=75)"
   ]
  }
 ],
 "metadata": {
  "kernelspec": {
   "display_name": "ParaiSUR-FY4onnAP",
   "language": "python",
   "name": "python3"
  },
  "language_info": {
   "codemirror_mode": {
    "name": "ipython",
    "version": 3
   },
   "file_extension": ".py",
   "mimetype": "text/x-python",
   "name": "python",
   "nbconvert_exporter": "python",
   "pygments_lexer": "ipython3",
   "version": "3.10.6"
  },
  "orig_nbformat": 4
 },
 "nbformat": 4,
 "nbformat_minor": 2
}
