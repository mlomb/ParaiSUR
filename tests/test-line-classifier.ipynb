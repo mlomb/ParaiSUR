{
 "cells": [
  {
   "cell_type": "code",
   "execution_count": 1,
   "metadata": {},
   "outputs": [],
   "source": [
    "%load_ext autoreload\n",
    "%autoreload 2"
   ]
  },
  {
   "cell_type": "code",
   "execution_count": 2,
   "metadata": {},
   "outputs": [],
   "source": [
    "import sys\n",
    "sys.path.append('..')"
   ]
  },
  {
   "cell_type": "code",
   "execution_count": 3,
   "metadata": {},
   "outputs": [],
   "source": [
    "from tqdm import tqdm\n",
    "\n",
    "from lib.line_classification import is_professional"
   ]
  },
  {
   "cell_type": "code",
   "execution_count": 4,
   "metadata": {},
   "outputs": [
    {
     "name": "stdout",
     "output_type": "stream",
     "text": [
      "1091\n"
     ]
    }
   ],
   "source": [
    "test_data = [] # (is_professional, line)\n",
    "\n",
    "with open(\"./professional_lines.txt\", \"r\") as f:\n",
    "    test_data = ([(True, line.strip()) for line in f.readlines() if line.strip() != \"\"])\n",
    "\n",
    "with open(\"./non_professional_lines.txt\", \"r\") as f:\n",
    "    test_data += ([(False, line.strip()) for line in f.readlines() if line.strip() != \"\"])\n",
    "\n",
    "print(len(test_data))"
   ]
  },
  {
   "cell_type": "code",
   "execution_count": 5,
   "metadata": {},
   "outputs": [
    {
     "name": "stderr",
     "output_type": "stream",
     "text": [
      "  0%|          | 0/1091 [00:00<?, ?it/s]"
     ]
    },
    {
     "name": "stderr",
     "output_type": "stream",
     "text": [
      "100%|██████████| 1091/1091 [00:08<00:00, 123.07it/s]\n"
     ]
    }
   ],
   "source": [
    "false_positives = []\n",
    "false_negatives = []\n",
    "\n",
    "for prof, line in tqdm(test_data):\n",
    "    if is_professional.__wrapped__(line) != prof:\n",
    "        if prof:\n",
    "            false_negatives.append(line)\n",
    "        else:\n",
    "            false_positives.append(line)\n"
   ]
  },
  {
   "cell_type": "code",
   "execution_count": 6,
   "metadata": {},
   "outputs": [
    {
     "name": "stdout",
     "output_type": "stream",
     "text": [
      "Total: 1091\n",
      "False negatives: 15 (0.01)\n",
      "False positives: 3 (0.00)\n"
     ]
    }
   ],
   "source": [
    "print(f\"Total: {len(test_data)}\")\n",
    "print(f\"False negatives: {len(false_negatives)} ({len(false_negatives) / len(test_data):.2f})\")\n",
    "print(f\"False positives: {len(false_positives)} ({len(false_positives) / len(test_data):.2f})\")"
   ]
  },
  {
   "cell_type": "code",
   "execution_count": 7,
   "metadata": {},
   "outputs": [
    {
     "data": {
      "text/plain": [
       "(['-MelissBrown 13.60 $15.00',\n",
       "  '0-Ananda Wiison 2 $93.00',\n",
       "  '0-MelissBrown 20 $116.00',\n",
       "  '0-Stt Harris 40 $114.00',\n",
       "  'Alexande: t - Principal 1.20 $420.00',\n",
       "  'Chares Colfins -GIS Specialist 3.50 $5.54',\n",
       "  'Chares Wood -Project Engineer $181.00',\n",
       "  'Charles Xood - : 2 $181.00',\n",
       "  'Jacobson',\n",
       "  'Jacobson 0.25 $5, 67',\n",
       "  'Jacobson 0.25 $5.67',\n",
       "  'Jacobson 0.50 $5.67',\n",
       "  'Jacobson 0.50 $9.07',\n",
       "  'Jacobson 1.50 $9.07',\n",
       "  'Tir ered - Maciscn Carson 15 $131.00'],\n",
       " ['AI ees 1 $302.34', 'Cierical -Mak Rios 0.50 $51.71', 'Acmin I 1 $63.75'])"
      ]
     },
     "execution_count": 7,
     "metadata": {},
     "output_type": "execute_result"
    }
   ],
   "source": [
    "false_negatives[:100], false_positives[:10]"
   ]
  },
  {
   "cell_type": "code",
   "execution_count": 8,
   "metadata": {},
   "outputs": [
    {
     "data": {
      "text/plain": [
       "True"
      ]
     },
     "execution_count": 8,
     "metadata": {},
     "output_type": "execute_result"
    }
   ],
   "source": [
    "from lib.line_classification import is_first_name, is_last_name\n",
    "\n",
    "\n",
    "is_professional('Cierical -trvi xeekend 0.50 $51.71', debug=True)\n",
    "\n",
    "# is_first_name('Charles', score_cutoff=85), is_last_name('Xood', score_cutoff=75)"
   ]
  }
 ],
 "metadata": {
  "kernelspec": {
   "display_name": "ParaiSUR-FY4onnAP",
   "language": "python",
   "name": "python3"
  },
  "language_info": {
   "codemirror_mode": {
    "name": "ipython",
    "version": 3
   },
   "file_extension": ".py",
   "mimetype": "text/x-python",
   "name": "python",
   "nbconvert_exporter": "python",
   "pygments_lexer": "ipython3",
   "version": "3.10.6"
  },
  "orig_nbformat": 4
 },
 "nbformat": 4,
 "nbformat_minor": 2
}
