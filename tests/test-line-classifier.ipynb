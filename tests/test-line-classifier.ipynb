{
 "cells": [
  {
   "cell_type": "code",
   "execution_count": 188,
   "metadata": {},
   "outputs": [
    {
     "name": "stdout",
     "output_type": "stream",
     "text": [
      "The autoreload extension is already loaded. To reload it, use:\n",
      "  %reload_ext autoreload\n"
     ]
    }
   ],
   "source": [
    "%load_ext autoreload\n",
    "%autoreload 2"
   ]
  },
  {
   "cell_type": "code",
   "execution_count": 189,
   "metadata": {},
   "outputs": [],
   "source": [
    "import sys\n",
    "sys.path.append('..')"
   ]
  },
  {
   "cell_type": "code",
   "execution_count": 190,
   "metadata": {},
   "outputs": [],
   "source": [
    "from tqdm import tqdm\n",
    "\n",
    "from lib.line_classification import is_professional"
   ]
  },
  {
   "cell_type": "code",
   "execution_count": 191,
   "metadata": {},
   "outputs": [
    {
     "name": "stdout",
     "output_type": "stream",
     "text": [
      "1072\n"
     ]
    }
   ],
   "source": [
    "test_data = [] # (is_professional, line)\n",
    "\n",
    "with open(\"./professional_lines.txt\", \"r\") as f:\n",
    "    test_data = ([(True, line.strip()) for line in f.readlines() if line.strip() != \"\"])\n",
    "\n",
    "with open(\"./non_professional_lines.txt\", \"r\") as f:\n",
    "    test_data += ([(False, line.strip()) for line in f.readlines() if line.strip() != \"\"])\n",
    "\n",
    "print(len(test_data))"
   ]
  },
  {
   "cell_type": "code",
   "execution_count": 192,
   "metadata": {},
   "outputs": [
    {
     "name": "stderr",
     "output_type": "stream",
     "text": [
      "  4%|▎         | 39/1072 [00:00<00:09, 112.67it/s]"
     ]
    },
    {
     "name": "stderr",
     "output_type": "stream",
     "text": [
      "100%|██████████| 1072/1072 [00:09<00:00, 109.21it/s]"
     ]
    },
    {
     "name": "stdout",
     "output_type": "stream",
     "text": [
      "Total: 1072\n",
      "False positives: 13 (0.01)\n",
      "False negatives: 46 (0.04)\n"
     ]
    },
    {
     "name": "stderr",
     "output_type": "stream",
     "text": [
      "\n"
     ]
    }
   ],
   "source": [
    "false_positives = []\n",
    "false_negatives = []\n",
    "\n",
    "for prof, line in tqdm(test_data):\n",
    "    if is_professional(line) != prof:\n",
    "        if prof:\n",
    "            false_negatives.append(line)\n",
    "        else:\n",
    "            false_positives.append(line)\n",
    "\n",
    "print(f\"Total: {len(test_data)}\")\n",
    "print(f\"False positives: {len(false_positives)} ({len(false_positives) / len(test_data):.2f})\")\n",
    "print(f\"False negatives: {len(false_negatives)} ({len(false_negatives) / len(test_data):.2f})\")"
   ]
  },
  {
   "cell_type": "code",
   "execution_count": 193,
   "metadata": {},
   "outputs": [
    {
     "data": {
      "text/plain": [
       "(['-Matthex Kight 37.50 $63.00',\n",
       "  '--Jennifer Sath $114.00',\n",
       "  '-Ananda Glass 40 $63.00',\n",
       "  '-Keliy Greer 9.50 $35.00',\n",
       "  '-Madisoa Carson 16 $116.00',\n",
       "  '-MelissBrown 13.60 $15.00',\n",
       "  '0-Ananda Wiison 2 $93.00',\n",
       "  '0-Cani Barton 36.03 $155.00',\n",
       "  '0-Cani Barton 36.03 $155.00',\n",
       "  '0-Eiizabeth Casey 2 $181.00',\n",
       "  '0-Eiizabeth Casey 2 $181.00',\n",
       "  '0-Madlaon Carson 25.60 $116.00',\n",
       "  '0-MelissBrown 20 $116.00',\n",
       "  '0-Stt Harris 40 $114.00',\n",
       "  'ADM RATIVE - Andrew Littie 2.50 $79.30',\n",
       "  'Alexande: t - Principal 1.20 $420.00',\n",
       "  'Alexandra Tor',\n",
       "  'Carla Kirhy -Nicrostacon 2D  3D 0.50 $85.04',\n",
       "  'Chares Colfins -GIS Specialist 3.50 $5.54',\n",
       "  'Chares Wood -Project Engineer $181.00',\n",
       "  'Charles Xood - : 2 $181.00',\n",
       "  'CIVILENGINE lakayla Crawford 21 $207.00',\n",
       "  'fennifer Newton-0 12 $181.00',\n",
       "  'Jacobson',\n",
       "  'Jacobson 0.25 $5, 67',\n",
       "  'Jacobson 0.25 $5.67',\n",
       "  'Jacobson 0.50 $5.67',\n",
       "  'Jacobson 0.50 $9.07',\n",
       "  'Jacobson 1.50 $9.07',\n",
       "  'James Nansen - 0 32 $135.00',\n",
       "  'Jamie Fieming - Microstation 2D &3D 1 $57.67',\n",
       "  'Jamie Flen 4icrostation 2D3D 1.75 $57.67',\n",
       "  'Jamie Pieming - Micrcstation 20 s 3D 1 $57.67',\n",
       "  'Lisa Coatreras - Microstation 2D & 3D 5.50 S57.67',\n",
       "  'Lisa eras - Microstation 2D & 3D 1.50 $57.67',\n",
       "  'Madison Carsog 14.80 $116.00',\n",
       "  'Matthew Thonpson Descripli .2 $135.00',\n",
       "  'Meiissa Brown - 0 26 $131.00',\n",
       "  'Melissa Brcan -0 5.10 $200.00',\n",
       "  'Melissa Brcwn -0 34 $28.38',\n",
       "  'Melissa Erown -Principal 28 $131.00',\n",
       "  'Melissa iliiams -Principal 4.50 $36.19',\n",
       "  'Micrcstation 2D s 3D - Carla Xirby 0.50 $55.99',\n",
       "  'Microstation 2D &3D - Jamie Fieming 9 $57.67',\n",
       "  'Microstation 2D &3D -Jamie tne Jayment ersrs $57.67',\n",
       "  'O - Cennifer Newton 20 $181.00'],\n",
       " ['Cierical -trvi xeekend 0.50 $51.71',\n",
       "  'cllen ting on 2022-01-22 $98.17',\n",
       "  'Ctie ing on 2021-01-18 1 $4.448.00',\n",
       "  'Paoject Interview - Equ pment 1 $97.13',\n",
       "  'PROJECT CONTROL 0.50 $133.16',\n",
       "  'PROJECT CONTROL 1 $112.88',\n",
       "  'PROJECT CONTROL 1 $185.26',\n",
       "  'PROJECT CONTROL 13 $191.75',\n",
       "  'PROJECT CONTROL 2 $133.16',\n",
       "  'Travei Exper rom 2022-08-16 $700.00'])"
      ]
     },
     "execution_count": 193,
     "metadata": {},
     "output_type": "execute_result"
    }
   ],
   "source": [
    "false_negatives[:100], false_positives[:10]"
   ]
  },
  {
   "cell_type": "code",
   "execution_count": 194,
   "metadata": {},
   "outputs": [
    {
     "name": "stdout",
     "output_type": "stream",
     "text": [
      "nombre apellido chares colfins\n",
      "negative keyword | chares ('charges', 92)\n"
     ]
    },
    {
     "data": {
      "text/plain": [
       "False"
      ]
     },
     "execution_count": 194,
     "metadata": {},
     "output_type": "execute_result"
    }
   ],
   "source": [
    "is_professional('Chares Colfins -GIS Specialist 3.50 $5.54', debug=True)"
   ]
  }
 ],
 "metadata": {
  "kernelspec": {
   "display_name": "ParaiSUR-FY4onnAP",
   "language": "python",
   "name": "python3"
  },
  "language_info": {
   "codemirror_mode": {
    "name": "ipython",
    "version": 3
   },
   "file_extension": ".py",
   "mimetype": "text/x-python",
   "name": "python",
   "nbconvert_exporter": "python",
   "pygments_lexer": "ipython3",
   "version": "3.10.6"
  },
  "orig_nbformat": 4
 },
 "nbformat": 4,
 "nbformat_minor": 2
}
